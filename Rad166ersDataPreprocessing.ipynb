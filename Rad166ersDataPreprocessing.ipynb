{
 "cells": [
  {
   "cell_type": "markdown",
   "metadata": {
    "collapsed": false,
    "pycharm": {
     "name": "#%% md\n"
    }
   },
   "source": [
    "# Rad 116ers - Assignment 01: Data Preprocessing Project\n",
    "Pre-requisites and libraries used:\n",
    "Python 3<br>\n",
    "pandas<br>\n",
    "matplotlib<br>\n",
    "numpy<br>\n",
    "Jupyter Notebook\n",
    "\n",
    "## Member Assignments\n",
    "### Fernando Mendez:\n",
    "Dropping columns<br>\n",
    "Missing Values<br>\n",
    "Outliers<br>\n",
    "Duplicates/Dropping Fields<br>\n",
    "Mean and Standard Deviation<br>\n",
    "Principle Components Analysis\n",
    "\n",
    "### Ethan Tecson:\n",
    "Create a dataframe<br>\n",
    "Shuffling a dataframe<br>\n",
    "Sorting a dataframe<br>\n",
    "Saving a dataframe\n",
    "\n",
    "### Joshua Langley:\n",
    "Feature Normalization<br>\n",
    "Calculated Fields\n",
    "\n",
    "### Calvin Chen:\n",
    "Aggregation<br>\n",
    "Sampling\n",
    "\n",
    "### Seungjin Chae:\n",
    "Concatenating<br>\n",
    "\n",
    "### Daniel Chu:\n",
    "Discretization<br>\n",
    "\n",
    "### Ryan Sario:\n",
    "Training/Test Split\n",
    "\n",
    "### Sukhdeep Banwait:\n",
    "Tutorial"
   ]
  },
  {
   "cell_type": "markdown",
   "metadata": {
    "pycharm": {
     "name": "#%% md\n"
    }
   },
   "source": [
    "\n",
    "\n",
    "# Dropping a Column\n",
    "The column 'Site' is the same for all the data in the dataset, hence, it will be dropped for a better reading of the data. "
   ]
  },
  {
   "cell_type": "code",
   "execution_count": 1,
   "metadata": {
    "pycharm": {
     "is_executing": true,
     "name": "#%%\n"
    }
   },
   "outputs": [
    {
     "name": "stdout",
     "output_type": "stream",
     "text": [
      "Number of instances = 175200\n",
      "Number of attributes = 5\n"
     ]
    },
    {
     "data": {
      "text/html": [
       "<div>\n",
       "<style scoped>\n",
       "    .dataframe tbody tr th:only-of-type {\n",
       "        vertical-align: middle;\n",
       "    }\n",
       "\n",
       "    .dataframe tbody tr th {\n",
       "        vertical-align: top;\n",
       "    }\n",
       "\n",
       "    .dataframe thead th {\n",
       "        text-align: right;\n",
       "    }\n",
       "</style>\n",
       "<table border=\"1\" class=\"dataframe\">\n",
       "  <thead>\n",
       "    <tr style=\"text-align: right;\">\n",
       "      <th></th>\n",
       "      <th>Species</th>\n",
       "      <th>ReadingDateTime</th>\n",
       "      <th>Value</th>\n",
       "      <th>Units</th>\n",
       "      <th>Provisional or Ratified</th>\n",
       "    </tr>\n",
       "  </thead>\n",
       "  <tbody>\n",
       "    <tr>\n",
       "      <th>175195</th>\n",
       "      <td>O3</td>\n",
       "      <td>31/12/2018 22:45</td>\n",
       "      <td>57.0</td>\n",
       "      <td>ug m-3</td>\n",
       "      <td>R</td>\n",
       "    </tr>\n",
       "    <tr>\n",
       "      <th>175196</th>\n",
       "      <td>O3</td>\n",
       "      <td>31/12/2018 23:00</td>\n",
       "      <td>61.1</td>\n",
       "      <td>ug m-3</td>\n",
       "      <td>R</td>\n",
       "    </tr>\n",
       "    <tr>\n",
       "      <th>175197</th>\n",
       "      <td>O3</td>\n",
       "      <td>31/12/2018 23:15</td>\n",
       "      <td>61.1</td>\n",
       "      <td>ug m-3</td>\n",
       "      <td>R</td>\n",
       "    </tr>\n",
       "    <tr>\n",
       "      <th>175198</th>\n",
       "      <td>O3</td>\n",
       "      <td>31/12/2018 23:30</td>\n",
       "      <td>61.1</td>\n",
       "      <td>ug m-3</td>\n",
       "      <td>R</td>\n",
       "    </tr>\n",
       "    <tr>\n",
       "      <th>175199</th>\n",
       "      <td>O3</td>\n",
       "      <td>31/12/2018 23:45</td>\n",
       "      <td>61.1</td>\n",
       "      <td>ug m-3</td>\n",
       "      <td>R</td>\n",
       "    </tr>\n",
       "  </tbody>\n",
       "</table>\n",
       "</div>"
      ],
      "text/plain": [
       "       Species   ReadingDateTime  Value   Units Provisional or Ratified\n",
       "175195      O3  31/12/2018 22:45   57.0  ug m-3                       R\n",
       "175196      O3  31/12/2018 23:00   61.1  ug m-3                       R\n",
       "175197      O3  31/12/2018 23:15   61.1  ug m-3                       R\n",
       "175198      O3  31/12/2018 23:30   61.1  ug m-3                       R\n",
       "175199      O3  31/12/2018 23:45   61.1  ug m-3                       R"
      ]
     },
     "execution_count": 1,
     "metadata": {},
     "output_type": "execute_result"
    }
   ],
   "source": [
    "import pandas as pd\n",
    "\n",
    "data = pd.read_csv('LaqnData.csv')\n",
    "\n",
    "# site values are all the same, hence, they are being dropped \n",
    "# to not be accounted in the attribute count\n",
    "data = data.drop(['Site'],  axis = 1)\n",
    "\n",
    "\n",
    "print('Number of instances = %d' % (data.shape[0]))\n",
    "print('Number of attributes = %d' % (data.shape[1]))\n",
    "\n",
    "data.tail()"
   ]
  },
  {
   "cell_type": "markdown",
   "metadata": {
    "pycharm": {
     "name": "#%% md\n"
    }
   },
   "source": [
    "Most instances contain a value of 'NaN' in the column 'Value'. Hence, data.tail() was called in order to get a better representation of the data. "
   ]
  },
  {
   "cell_type": "markdown",
   "metadata": {
    "pycharm": {
     "name": "#%% md\n"
    }
   },
   "source": [
    "# Missing Values"
   ]
  },
  {
   "cell_type": "code",
   "execution_count": 48,
   "metadata": {
    "pycharm": {
     "name": "#%%\n"
    }
   },
   "outputs": [
    {
     "name": "stdout",
     "output_type": "stream",
     "text": [
      "Number of instances = 175200\n",
      "Number of attributes = 6\n",
      "Number of missing values:\n",
      "\tSite: 0\n",
      "\tSpecies: 0\n",
      "\tReadingDateTime: 0\n",
      "\tValue: 43476\n",
      "\tUnits: 0\n",
      "\tProvisional or Ratified: 0\n"
     ]
    }
   ],
   "source": [
    "import numpy as np \n",
    "data.replace('',np.NaN)\n",
    "\n",
    "print('Number of instances = %d' % (data.shape[0]))\n",
    "print('Number of attributes = %d' % (data.shape[1]))\n",
    "\n",
    "print('Number of missing values:')\n",
    "for col in data.columns:\n",
    "    print('\\t%s: %d' % (col, data[col].isna().sum()))\n"
   ]
  },
  {
   "cell_type": "markdown",
   "metadata": {
    "pycharm": {
     "name": "#%% md\n"
    }
   },
   "source": [
    "Here we see that the attribute 'Value' is missing from 43,476 instances.\\\n",
    "They are then replaced with NaN (Not a Number)\\\n",
    "By having NaN in the missing values we use dropna() to drop any NaN values. "
   ]
  },
  {
   "cell_type": "code",
   "execution_count": 112,
   "metadata": {
    "pycharm": {
     "name": "#%%\n"
    }
   },
   "outputs": [
    {
     "name": "stdout",
     "output_type": "stream",
     "text": [
      "Before replacing missing values:\n",
      "35035    NaN\n",
      "35036    NaN\n",
      "35037    NaN\n",
      "35038    NaN\n",
      "35039    NaN\n",
      "35040    7.1\n",
      "35041    7.1\n",
      "35042    7.1\n",
      "35043    7.1\n",
      "35044    5.1\n",
      "Name: Value, dtype: float64\n",
      "\n",
      "Number of rows before discarding missing values = 175200\n",
      "Number of rows after discarding missing values = 131724\n"
     ]
    }
   ],
   "source": [
    "data2 = data['Value']\n",
    "print('Before replacing missing values:')\n",
    "\n",
    "print(data2[35035:35045])\n",
    "\n",
    "data3 = data2.dropna()\n",
    "print('\\nNumber of rows before discarding missing values = %d' % (data.shape[0]))\n",
    "print('Number of rows after discarding missing values = %d' % (data3.shape[0]))"
   ]
  },
  {
   "cell_type": "markdown",
   "metadata": {
    "pycharm": {
     "name": "#%% md\n"
    }
   },
   "source": [
    "By dropping NaN values we cause the Speices 'CO' disappears due to all of it's values containing NaN"
   ]
  },
  {
   "cell_type": "markdown",
   "metadata": {
    "pycharm": {
     "name": "#%% md\n"
    }
   },
   "source": [
    "# Outliers"
   ]
  },
  {
   "cell_type": "markdown",
   "metadata": {
    "pycharm": {
     "name": "#%% md\n"
    }
   },
   "source": [
    "To plot the data for outliers we pull up 2 rows, one with NaN values and another with a value for 'Value'.\\\n",
    "We want to be able to plot this data but based of the 'Species' to have a better representation of the each individual Species.\\"
   ]
  },
  {
   "cell_type": "code",
   "execution_count": 113,
   "metadata": {
    "pycharm": {
     "name": "#%%\n"
    }
   },
   "outputs": [
    {
     "data": {
      "text/html": [
       "<div>\n",
       "<style scoped>\n",
       "    .dataframe tbody tr th:only-of-type {\n",
       "        vertical-align: middle;\n",
       "    }\n",
       "\n",
       "    .dataframe tbody tr th {\n",
       "        vertical-align: top;\n",
       "    }\n",
       "\n",
       "    .dataframe thead th {\n",
       "        text-align: right;\n",
       "    }\n",
       "</style>\n",
       "<table border=\"1\" class=\"dataframe\">\n",
       "  <thead>\n",
       "    <tr style=\"text-align: right;\">\n",
       "      <th></th>\n",
       "      <th>Species</th>\n",
       "      <th>ReadingDateTime</th>\n",
       "      <th>Value</th>\n",
       "      <th>Units</th>\n",
       "      <th>Provisional or Ratified</th>\n",
       "    </tr>\n",
       "  </thead>\n",
       "  <tbody>\n",
       "    <tr>\n",
       "      <th>35039</th>\n",
       "      <td>CO</td>\n",
       "      <td>31/12/2018 23:45</td>\n",
       "      <td>NaN</td>\n",
       "      <td>mg m-3</td>\n",
       "      <td>P</td>\n",
       "    </tr>\n",
       "    <tr>\n",
       "      <th>35042</th>\n",
       "      <td>NO</td>\n",
       "      <td>01/01/2018 00:30</td>\n",
       "      <td>7.1</td>\n",
       "      <td>ug m-3</td>\n",
       "      <td>R</td>\n",
       "    </tr>\n",
       "  </tbody>\n",
       "</table>\n",
       "</div>"
      ],
      "text/plain": [
       "      Species   ReadingDateTime  Value   Units Provisional or Ratified\n",
       "35039      CO  31/12/2018 23:45    NaN  mg m-3                       P\n",
       "35042      NO  01/01/2018 00:30    7.1  ug m-3                       R"
      ]
     },
     "execution_count": 113,
     "metadata": {},
     "output_type": "execute_result"
    }
   ],
   "source": [
    "\n",
    "data.loc[[35039,35042]]\n"
   ]
  },
  {
   "cell_type": "markdown",
   "metadata": {
    "pycharm": {
     "name": "#%% md\n"
    }
   },
   "source": [
    "In order to make a boxplot we have to pivot the table to differentiate the types of sepcies and plot them based of each species"
   ]
  },
  {
   "cell_type": "code",
   "execution_count": 142,
   "metadata": {
    "pycharm": {
     "name": "#%%\n"
    }
   },
   "outputs": [
    {
     "name": "stdout",
     "output_type": "stream",
     "text": [
      "Species   NO  NO2  NOX    O3\n",
      "35040    7.1  NaN  NaN   NaN\n",
      "35041    7.1  NaN  NaN   NaN\n",
      "35042    7.1  NaN  NaN   NaN\n",
      "35043    7.1  NaN  NaN   NaN\n",
      "35044    5.1  NaN  NaN   NaN\n",
      "...      ...  ...  ...   ...\n",
      "175195   NaN  NaN  NaN  57.0\n",
      "175196   NaN  NaN  NaN  61.1\n",
      "175197   NaN  NaN  NaN  61.1\n",
      "175198   NaN  NaN  NaN  61.1\n",
      "175199   NaN  NaN  NaN  61.1\n",
      "\n",
      "[131724 rows x 4 columns]\n",
      "Species            NO           NO2           NOX            O3\n",
      "count    32456.000000  32448.000000  32448.000000  34372.000000\n",
      "mean        27.235408     46.444181     88.212722     31.307599\n",
      "std         38.191522     29.211803     81.162884     25.761797\n",
      "min          0.000000      0.700000      3.700000      0.500000\n",
      "25%          3.100000     21.800000     27.600000      8.900000\n",
      "50%         12.500000     42.500000     65.550000     27.200000\n",
      "75%         35.200000     66.300000    123.200000     47.400000\n",
      "max        347.899990    165.700000    643.900020    153.800000\n"
     ]
    },
    {
     "data": {
      "text/plain": [
       "<Axes: >"
      ]
     },
     "execution_count": 142,
     "metadata": {},
     "output_type": "execute_result"
    },
    {
     "data": {
      "image/png": "[encoded data removed]",
      "text/plain": [
       "<Figure size 2000x1000 with 1 Axes>"
      ]
     },
     "metadata": {},
     "output_type": "display_data"
    }
   ],
   "source": [
    "%matplotlib inline\n",
    "data4 = data.pivot_table(values='Value', index=data.index, columns='Species', aggfunc='first')\n",
    "data4['NO'] = pd.to_numeric(data4['NO'])\n",
    "\n",
    "print(data4)\n",
    "print(data4.describe())\n",
    "\n",
    "data4.boxplot(figsize=(20,10))"
   ]
  },
  {
   "cell_type": "markdown",
   "metadata": {
    "pycharm": {
     "name": "#%% md\n"
    }
   },
   "source": [
    "Based of these boxplots we can cleary that each Species contains several outliers. "
   ]
  },
  {
   "cell_type": "code",
   "execution_count": 116,
   "metadata": {
    "pycharm": {
     "name": "#%%\n"
    }
   },
   "outputs": [
    {
     "name": "stdout",
     "output_type": "stream",
     "text": [
      "Species        NO  NO2  NOX        O3\n",
      "35040   -0.527222  NaN  NaN       NaN\n",
      "35041   -0.527222  NaN  NaN       NaN\n",
      "35042   -0.527222  NaN  NaN       NaN\n",
      "35043   -0.527222  NaN  NaN       NaN\n",
      "35044   -0.579590  NaN  NaN       NaN\n",
      "...           ...  ...  ...       ...\n",
      "175195        NaN  NaN  NaN  0.997306\n",
      "175196        NaN  NaN  NaN  1.156457\n",
      "175197        NaN  NaN  NaN  1.156457\n",
      "175198        NaN  NaN  NaN  1.156457\n",
      "175199        NaN  NaN  NaN  1.156457\n",
      "\n",
      "[131724 rows x 4 columns]\n"
     ]
    }
   ],
   "source": [
    "Z = (data4-data4.mean())/data4.std()\n",
    "print(Z)\n",
    "#print(Z.describe())\n",
    "Z.to_csv('z.csv', index=False)"
   ]
  },
  {
   "cell_type": "markdown",
   "metadata": {
    "pycharm": {
     "name": "#%% md\n"
    }
   },
   "source": [
    "Using the describe function to see the values of Z we can tell that our values are too low.\\\n",
    "This will discard every datapoint we have when using a Z score between -3 and 3"
   ]
  },
  {
   "cell_type": "code",
   "execution_count": 141,
   "metadata": {
    "pycharm": {
     "name": "#%%\n"
    }
   },
   "outputs": [
    {
     "name": "stdout",
     "output_type": "stream",
     "text": [
      "Number of rows before discarding outliers = 131724\n",
      "Number of rows after discarding missing vlaues = 0\n",
      "\n",
      "Lenght before removing outliers in NO: 112236\n",
      "Length after removing outliers in NO : 111740\n"
     ]
    }
   ],
   "source": [
    "def remove_outliers(df, name, sd):\n",
    "    drop_rows = df.index[(np.abs(df[name] - df[name].mean()) >= (sd * df[name].std()))]\n",
    "    df.drop(drop_rows, axis=0, inplace=True)\n",
    "    \n",
    "print('Number of rows before discarding outliers = %d' % (Z.shape[0]))\n",
    "\n",
    "Z2 = Z.loc[((Z > -3).sum(axis=1)==4) & ((Z <= 3).sum(axis=1)==4),:]\n",
    "print('Number of rows after discarding missing vlaues = %d' % (Z2.shape[0]))\n",
    "\n",
    "\n",
    "print('\\nLenght before removing outliers in NO: {}'.format(len(data4)))\n",
    "remove_outliers(data4, 'NO', 2)\n",
    "print('Length after removing outliers in NO : {}'.format(len(data4)))\n"
   ]
  },
  {
   "cell_type": "markdown",
   "metadata": {
    "pycharm": {
     "name": "#%% md\n"
    }
   },
   "source": [
    "The spread of the data had values that were too small to fit between Z scores of -3 and 3.\\\n",
    "I resorted to removing outliers in the column of 'NO'.\\\n",
    "Using the function 'remove_outliers' for tensorflow/Tutorial, I removed any outliers in column 'NO' that had a value beyond the SD\n"
   ]
  },
  {
   "cell_type": "markdown",
   "metadata": {
    "pycharm": {
     "name": "#%% md\n"
    }
   },
   "source": [
    "# Duplicates/Dropping Fields"
   ]
  },
  {
   "cell_type": "code",
   "execution_count": 115,
   "metadata": {
    "pycharm": {
     "name": "#%%\n"
    }
   },
   "outputs": [
    {
     "name": "stdout",
     "output_type": "stream",
     "text": [
      "Number of duplicated rows = 0\n"
     ]
    },
    {
     "data": {
      "text/html": [
       "<div>\n",
       "<style scoped>\n",
       "    .dataframe tbody tr th:only-of-type {\n",
       "        vertical-align: middle;\n",
       "    }\n",
       "\n",
       "    .dataframe tbody tr th {\n",
       "        vertical-align: top;\n",
       "    }\n",
       "\n",
       "    .dataframe thead th {\n",
       "        text-align: right;\n",
       "    }\n",
       "</style>\n",
       "<table border=\"1\" class=\"dataframe\">\n",
       "  <thead>\n",
       "    <tr style=\"text-align: right;\">\n",
       "      <th></th>\n",
       "      <th>Species</th>\n",
       "      <th>ReadingDateTime</th>\n",
       "      <th>Value</th>\n",
       "      <th>Units</th>\n",
       "      <th>Provisional or Ratified</th>\n",
       "    </tr>\n",
       "  </thead>\n",
       "  <tbody>\n",
       "    <tr>\n",
       "      <th>45044</th>\n",
       "      <td>NO</td>\n",
       "      <td>15/04/2018 05:00</td>\n",
       "      <td>53.9</td>\n",
       "      <td>ug m-3</td>\n",
       "      <td>R</td>\n",
       "    </tr>\n",
       "    <tr>\n",
       "      <th>45045</th>\n",
       "      <td>NO</td>\n",
       "      <td>15/04/2018 05:15</td>\n",
       "      <td>53.9</td>\n",
       "      <td>ug m-3</td>\n",
       "      <td>R</td>\n",
       "    </tr>\n",
       "  </tbody>\n",
       "</table>\n",
       "</div>"
      ],
      "text/plain": [
       "      Species   ReadingDateTime  Value   Units Provisional or Ratified\n",
       "45044      NO  15/04/2018 05:00   53.9  ug m-3                       R\n",
       "45045      NO  15/04/2018 05:15   53.9  ug m-3                       R"
      ]
     },
     "execution_count": 115,
     "metadata": {},
     "output_type": "execute_result"
    }
   ],
   "source": [
    "dups = data.duplicated()\n",
    "print('Number of duplicated rows = %d' % (dups.sum()))\n",
    "data.loc[[45044,45045]]"
   ]
  },
  {
   "cell_type": "markdown",
   "metadata": {
    "pycharm": {
     "name": "#%% md\n"
    }
   },
   "source": [
    "The instances in this data set seems to not have any duplicates but that is due to the time intervales. If we drop the 'ReadingDateTime' we can truely see how many duplicated instances there are. "
   ]
  },
  {
   "cell_type": "code",
   "execution_count": 116,
   "metadata": {
    "pycharm": {
     "name": "#%%\n"
    }
   },
   "outputs": [
    {
     "name": "stdout",
     "output_type": "stream",
     "text": [
      "Number of duplicated rows: 169262\n"
     ]
    },
    {
     "data": {
      "text/html": [
       "<div>\n",
       "<style scoped>\n",
       "    .dataframe tbody tr th:only-of-type {\n",
       "        vertical-align: middle;\n",
       "    }\n",
       "\n",
       "    .dataframe tbody tr th {\n",
       "        vertical-align: top;\n",
       "    }\n",
       "\n",
       "    .dataframe thead th {\n",
       "        text-align: right;\n",
       "    }\n",
       "</style>\n",
       "<table border=\"1\" class=\"dataframe\">\n",
       "  <thead>\n",
       "    <tr style=\"text-align: right;\">\n",
       "      <th></th>\n",
       "      <th>Species</th>\n",
       "      <th>Value</th>\n",
       "      <th>Units</th>\n",
       "      <th>Provisional or Ratified</th>\n",
       "    </tr>\n",
       "  </thead>\n",
       "  <tbody>\n",
       "    <tr>\n",
       "      <th>175195</th>\n",
       "      <td>O3</td>\n",
       "      <td>57.0</td>\n",
       "      <td>ug m-3</td>\n",
       "      <td>R</td>\n",
       "    </tr>\n",
       "    <tr>\n",
       "      <th>175196</th>\n",
       "      <td>O3</td>\n",
       "      <td>61.1</td>\n",
       "      <td>ug m-3</td>\n",
       "      <td>R</td>\n",
       "    </tr>\n",
       "    <tr>\n",
       "      <th>175197</th>\n",
       "      <td>O3</td>\n",
       "      <td>61.1</td>\n",
       "      <td>ug m-3</td>\n",
       "      <td>R</td>\n",
       "    </tr>\n",
       "    <tr>\n",
       "      <th>175198</th>\n",
       "      <td>O3</td>\n",
       "      <td>61.1</td>\n",
       "      <td>ug m-3</td>\n",
       "      <td>R</td>\n",
       "    </tr>\n",
       "    <tr>\n",
       "      <th>175199</th>\n",
       "      <td>O3</td>\n",
       "      <td>61.1</td>\n",
       "      <td>ug m-3</td>\n",
       "      <td>R</td>\n",
       "    </tr>\n",
       "  </tbody>\n",
       "</table>\n",
       "</div>"
      ],
      "text/plain": [
       "       Species  Value   Units Provisional or Ratified\n",
       "175195      O3   57.0  ug m-3                       R\n",
       "175196      O3   61.1  ug m-3                       R\n",
       "175197      O3   61.1  ug m-3                       R\n",
       "175198      O3   61.1  ug m-3                       R\n",
       "175199      O3   61.1  ug m-3                       R"
      ]
     },
     "execution_count": 116,
     "metadata": {},
     "output_type": "execute_result"
    }
   ],
   "source": [
    "data2 = data.drop(['ReadingDateTime'], axis=1)\n",
    "\n",
    "dups2 = data2.duplicated()\n",
    "print('Number of duplicated rows: %d' % (dups2.sum()))\n",
    "data2.tail()\n"
   ]
  },
  {
   "cell_type": "code",
   "execution_count": 117,
   "metadata": {
    "pycharm": {
     "name": "#%%\n"
    }
   },
   "outputs": [
    {
     "name": "stdout",
     "output_type": "stream",
     "text": [
      "Number of rows before discarding duplicates = 175200\n",
      "Number of rows after discarding duplicates = 5938\n"
     ]
    }
   ],
   "source": [
    "print('Number of rows before discarding duplicates = %d' % (data2.shape[0]))\n",
    "noDups = data2.drop_duplicates()\n",
    "print('Number of rows after discarding duplicates = %d' % (noDups.shape[0]))\n"
   ]
  },
  {
   "cell_type": "markdown",
   "metadata": {
    "pycharm": {
     "name": "#%% md\n"
    }
   },
   "source": [
    "Amount of duplicated values dropped by a large of amount\n"
   ]
  },
  {
   "cell_type": "markdown",
   "metadata": {
    "pycharm": {
     "name": "#%% md\n"
    }
   },
   "source": [
    "# Mean and Standard Deviation"
   ]
  },
  {
   "cell_type": "code",
   "execution_count": 16,
   "metadata": {
    "pycharm": {
     "name": "#%%\n"
    }
   },
   "outputs": [
    {
     "name": "stdout",
     "output_type": "stream",
     "text": [
      "Mean of Species\n",
      "NO     27.235408\n",
      "NO2    46.444181\n",
      "NOX    88.212722\n",
      "O3     31.307599\n",
      "dtype: float64\n",
      "\n",
      "\n",
      "Standard Deviation of Species\n",
      "NO     38.191522\n",
      "NO2    29.211803\n",
      "NOX    81.162884\n",
      "O3     25.761797\n",
      "dtype: float64\n"
     ]
    }
   ],
   "source": [
    "import pandas as pd\n",
    "data = pd.read_csv('LaqnData.csv')\n",
    "\n",
    "pivoted_data = data.pivot_table(values='Value', index=data.index, columns='Species', aggfunc='first')\n",
    "\n",
    "data_mean = pivoted_data.mean()\n",
    "data_sd = pivoted_data.std()\n",
    "\n",
    "print('Mean of', data_mean)\n",
    "print('\\n')\n",
    "print('Standard Deviation of', data_sd)\n"
   ]
  },
  {
   "cell_type": "markdown",
   "metadata": {
    "pycharm": {
     "name": "#%% md\n"
    }
   },
   "source": [
    "# Principle Components Analysis"
   ]
  },
  {
   "cell_type": "code",
   "execution_count": 29,
   "metadata": {
    "pycharm": {
     "name": "#%%\n"
    }
   },
   "outputs": [
    {
     "data": {
      "image/png": "[encoded data removed]",
      "text/plain": [
       "<Figure size 700x700 with 8 Axes>"
      ]
     },
     "metadata": {},
     "output_type": "display_data"
    }
   ],
   "source": [
    "%matplotlib inline\n",
    "\n",
    "import matplotlib.pyplot as plt\n",
    "import matplotlib.image as mpimg\n",
    "import numpy as np\n",
    "\n",
    "numImages = 8\n",
    "fig = plt.figure(figsize=(7,7))\n",
    "imgData = np.zeros(shape=(numImages,750000))\n",
    "\n",
    "for i in range(1, numImages+1):\n",
    "    filename = './autos/auto'+str(i)+'.jpg'\n",
    "    img = mpimg.imread(filename)\n",
    "    ax = fig.add_subplot(4, 4, i)\n",
    "    plt.imshow(img)\n",
    "    plt.axis('off')\n",
    "    ax.set_title(str(i))\n",
    "    imgData[i-1] = np.array(img.flatten()).reshape(1,img.shape[0]*img.shape[1]*img.shape[2])"
   ]
  },
  {
   "cell_type": "code",
   "execution_count": 30,
   "metadata": {
    "pycharm": {
     "name": "#%%\n"
    }
   },
   "outputs": [
    {
     "data": {
      "text/html": [
       "<div>\n",
       "<style scoped>\n",
       "    .dataframe tbody tr th:only-of-type {\n",
       "        vertical-align: middle;\n",
       "    }\n",
       "\n",
       "    .dataframe tbody tr th {\n",
       "        vertical-align: top;\n",
       "    }\n",
       "\n",
       "    .dataframe thead th {\n",
       "        text-align: right;\n",
       "    }\n",
       "</style>\n",
       "<table border=\"1\" class=\"dataframe\">\n",
       "  <thead>\n",
       "    <tr style=\"text-align: right;\">\n",
       "      <th></th>\n",
       "      <th>pc1</th>\n",
       "      <th>pc2</th>\n",
       "      <th>autos</th>\n",
       "    </tr>\n",
       "  </thead>\n",
       "  <tbody>\n",
       "    <tr>\n",
       "      <th>1</th>\n",
       "      <td>-27081.563575</td>\n",
       "      <td>52272.951902</td>\n",
       "      <td>truck</td>\n",
       "    </tr>\n",
       "    <tr>\n",
       "      <th>2</th>\n",
       "      <td>-25054.558812</td>\n",
       "      <td>-8687.866439</td>\n",
       "      <td>truck</td>\n",
       "    </tr>\n",
       "    <tr>\n",
       "      <th>3</th>\n",
       "      <td>31132.792741</td>\n",
       "      <td>18260.111736</td>\n",
       "      <td>truck</td>\n",
       "    </tr>\n",
       "    <tr>\n",
       "      <th>4</th>\n",
       "      <td>61849.185521</td>\n",
       "      <td>-2346.993345</td>\n",
       "      <td>truck</td>\n",
       "    </tr>\n",
       "    <tr>\n",
       "      <th>5</th>\n",
       "      <td>-52376.541495</td>\n",
       "      <td>-16654.989818</td>\n",
       "      <td>car</td>\n",
       "    </tr>\n",
       "    <tr>\n",
       "      <th>6</th>\n",
       "      <td>-26429.640721</td>\n",
       "      <td>-18865.867821</td>\n",
       "      <td>car</td>\n",
       "    </tr>\n",
       "    <tr>\n",
       "      <th>7</th>\n",
       "      <td>45360.361436</td>\n",
       "      <td>-14665.320311</td>\n",
       "      <td>car</td>\n",
       "    </tr>\n",
       "    <tr>\n",
       "      <th>8</th>\n",
       "      <td>-7400.035094</td>\n",
       "      <td>-9312.025904</td>\n",
       "      <td>car</td>\n",
       "    </tr>\n",
       "  </tbody>\n",
       "</table>\n",
       "</div>"
      ],
      "text/plain": [
       "            pc1           pc2  autos\n",
       "1 -27081.563575  52272.951902  truck\n",
       "2 -25054.558812  -8687.866439  truck\n",
       "3  31132.792741  18260.111736  truck\n",
       "4  61849.185521  -2346.993345  truck\n",
       "5 -52376.541495 -16654.989818    car\n",
       "6 -26429.640721 -18865.867821    car\n",
       "7  45360.361436 -14665.320311    car\n",
       "8  -7400.035094  -9312.025904    car"
      ]
     },
     "execution_count": 30,
     "metadata": {},
     "output_type": "execute_result"
    }
   ],
   "source": [
    "import pandas as pd\n",
    "from sklearn.decomposition import PCA\n",
    "numComp = 2\n",
    "pca = PCA(n_components=numComp)\n",
    "pca.fit(imgData)\n",
    "\n",
    "projected = pca.transform(imgData)\n",
    "projected = pd.DataFrame(projected,columns=['pc1','pc2'],index=range(1,numImages+1))\n",
    "\n",
    "projected['autos'] = ['truck','truck','truck','truck','car','car','car','car']\n",
    "projected"
   ]
  },
  {
   "cell_type": "code",
   "execution_count": 34,
   "metadata": {
    "pycharm": {
     "name": "#%%\n"
    }
   },
   "outputs": [
    {
     "data": {
      "image/png": "[encoded data removed]",
      "text/plain": [
       "<Figure size 640x480 with 1 Axes>"
      ]
     },
     "metadata": {},
     "output_type": "display_data"
    }
   ],
   "source": [
    "import matplotlib.pyplot as plt\n",
    "\n",
    "colors = {'truck':'r', 'car':'b'}\n",
    "markerTypes = {'truck':'+', 'car':'x'}\n",
    "\n",
    "for autotype in markerTypes:\n",
    "    d = projected[projected['autos']==autotype]\n",
    "    plt.scatter(d['pc1'],d['pc2'], c=colors[autotype], s=60, marker=markerTypes[autotype])"
   ]
  },
  {
   "cell_type": "markdown",
   "metadata": {
    "pycharm": {
     "name": "#%% md\n"
    }
   },
   "source": [
    "Based of the Scatterplot we tell how PCA sort of differentiates trucks from the cars.\\\n",
    "The '+' and 'X' that are close to each other represents auto2 and auto6.\\\n",
    "Small similarities can be seen between auto2 and auto6. Perhaps the grill and and headlights is what got them values that are close to each other.\\\n",
    "\\\n",
    "auto2 (truck) seems to have a different color which is why it's value differes greatly from the other trucks.\\\n",
    "As for the cars, them seems to be spread out a bit but do maintain consistancy with their low values in pc2"
   ]
  },
  {
   "cell_type": "markdown",
   "metadata": {
    "collapsed": false,
    "pycharm": {
     "name": "#%% md\n"
    }
   },
   "source": [
    "\n",
    "\n",
    "# Dropping a Column\n",
    "The column 'Site' is the same for all the data in the dataset, hence, it will be dropped for a better reading of the data. "
   ]
  },
  {
   "cell_type": "code",
   "execution_count": null,
   "metadata": {
    "collapsed": false,
    "pycharm": {
     "name": "#%%\n"
    }
   },
   "outputs": [],
   "source": [
    "import pandas as pd\n",
    "\n",
    "data = pd.read_csv('LaqnData.csv')\n",
    "\n",
    "# site values are all the same, hence, they are being dropped \n",
    "# to not be accounted in the attribute count\n",
    "data = data.drop(['Site'],  axis = 1)\n",
    "\n",
    "\n",
    "print('Number of instances = %d' % (data.shape[0]))\n",
    "print('Number of attributes = %d' % (data.shape[1]))\n",
    "\n",
    "data.tail()"
   ]
  },
  {
   "cell_type": "markdown",
   "metadata": {
    "collapsed": false,
    "pycharm": {
     "name": "#%% md\n"
    }
   },
   "source": [
    "Most instances contain a value of 'NaN' in the column 'Value'. Hence, data.tail() was called in order to get a better representation of the data. "
   ]
  },
  {
   "cell_type": "markdown",
   "metadata": {
    "collapsed": false,
    "pycharm": {
     "name": "#%% md\n"
    }
   },
   "source": [
    "# Missing Values"
   ]
  },
  {
   "cell_type": "code",
   "execution_count": null,
   "metadata": {
    "collapsed": false,
    "pycharm": {
     "name": "#%%\n"
    }
   },
   "outputs": [],
   "source": [
    "import numpy as np \n",
    "data.replace('',np.NaN)\n",
    "\n",
    "print('Number of instances = %d' % (data.shape[0]))\n",
    "print('Number of attributes = %d' % (data.shape[1]))\n",
    "\n",
    "print('Number of missing values:')\n",
    "for col in data.columns:\n",
    "    print('\\t%s: %d' % (col, data[col].isna().sum()))\n"
   ]
  },
  {
   "cell_type": "markdown",
   "metadata": {
    "collapsed": false,
    "pycharm": {
     "name": "#%% md\n"
    }
   },
   "source": [
    "Here we see that the attribute 'Value' is missing from 43,476 instances.\\\n",
    "They are then replaced with NaN (Not a Number)\\\n",
    "By having NaN in the missing values we use dropna() to drop any NaN values. "
   ]
  },
  {
   "cell_type": "code",
   "execution_count": null,
   "metadata": {
    "collapsed": false,
    "pycharm": {
     "name": "#%%\n"
    }
   },
   "outputs": [],
   "source": [
    "data2 = data['Value']\n",
    "print('Before replacing missing values:')\n",
    "\n",
    "print(data2[35035:35045])\n",
    "\n",
    "data3 = data2.dropna()\n",
    "print('\\nNumber of rows before discarding missing values = %d' % (data.shape[0]))\n",
    "print('Number of rows after discarding missing values = %d' % (data3.shape[0]))"
   ]
  },
  {
   "cell_type": "markdown",
   "metadata": {
    "collapsed": false,
    "pycharm": {
     "name": "#%% md\n"
    }
   },
   "source": [
    "By dropping NaN values we cause the Speices 'CO' disappears due to all of it's values containing NaN"
   ]
  },
  {
   "cell_type": "markdown",
   "metadata": {
    "collapsed": false,
    "pycharm": {
     "name": "#%% md\n"
    }
   },
   "source": [
    "# Outliers"
   ]
  },
  {
   "cell_type": "markdown",
   "metadata": {
    "collapsed": false,
    "pycharm": {
     "name": "#%% md\n"
    }
   },
   "source": [
    "To plot the data for outliers we pull up 2 rows, one with NaN values and another with a value for 'Value'.\\\n",
    "We want to be able to plot this data but based of the 'Species' to have a better representation of the each individual Species.\\"
   ]
  },
  {
   "cell_type": "code",
   "execution_count": null,
   "metadata": {
    "collapsed": false,
    "pycharm": {
     "name": "#%%\n"
    }
   },
   "outputs": [],
   "source": [
    "\n",
    "data.loc[[35039,35042]]\n"
   ]
  },
  {
   "cell_type": "markdown",
   "metadata": {
    "collapsed": false,
    "pycharm": {
     "name": "#%% md\n"
    }
   },
   "source": [
    "In order to make a boxplot we have to pivot the table to differentiate the types of sepcies and plot them based of each species"
   ]
  },
  {
   "cell_type": "code",
   "execution_count": null,
   "metadata": {
    "collapsed": false,
    "pycharm": {
     "name": "#%%\n"
    }
   },
   "outputs": [],
   "source": [
    "%matplotlib inline\n",
    "data4 = data.pivot_table(values='Value', index=data.index, columns='Species', aggfunc='first')\n",
    "data4['NO'] = pd.to_numeric(data4['NO'])\n",
    "\n",
    "print(data4)\n",
    "print(data4.describe())\n",
    "\n",
    "data4.boxplot(figsize=(20,10))"
   ]
  },
  {
   "cell_type": "markdown",
   "metadata": {
    "collapsed": false,
    "pycharm": {
     "name": "#%% md\n"
    }
   },
   "source": [
    "Based of these boxplots we can cleary that each Species contains several outliers. "
   ]
  },
  {
   "cell_type": "code",
   "execution_count": null,
   "metadata": {
    "collapsed": false,
    "pycharm": {
     "name": "#%%\n"
    }
   },
   "outputs": [],
   "source": [
    "Z = (data4-data4.mean())/data4.std()\n",
    "print(Z)\n",
    "#print(Z.describe())\n",
    "Z.to_csv('z.csv', index=False)"
   ]
  },
  {
   "cell_type": "markdown",
   "metadata": {
    "collapsed": false,
    "pycharm": {
     "name": "#%% md\n"
    }
   },
   "source": [
    "Using the describe function to see the values of Z we can tell that our values are too low.\\\n",
    "This will discard every datapoint we have when using a Z score between -3 and 3"
   ]
  },
  {
   "cell_type": "code",
   "execution_count": null,
   "metadata": {
    "collapsed": false,
    "pycharm": {
     "name": "#%%\n"
    }
   },
   "outputs": [],
   "source": [
    "def remove_outliers(df, name, sd):\n",
    "    drop_rows = df.index[(np.abs(df[name] - df[name].mean()) >= (sd * df[name].std()))]\n",
    "    df.drop(drop_rows, axis=0, inplace=True)\n",
    "    \n",
    "print('Number of rows before discarding outliers = %d' % (Z.shape[0]))\n",
    "\n",
    "Z2 = Z.loc[((Z > -3).sum(axis=1)==4) & ((Z <= 3).sum(axis=1)==4),:]\n",
    "print('Number of rows after discarding missing vlaues = %d' % (Z2.shape[0]))\n",
    "\n",
    "\n",
    "print('\\nLenght before removing outliers in NO: {}'.format(len(data4)))\n",
    "remove_outliers(data4, 'NO', 2)\n",
    "print('Length after removing outliers in NO : {}'.format(len(data4)))\n"
   ]
  },
  {
   "cell_type": "markdown",
   "metadata": {
    "collapsed": false,
    "pycharm": {
     "name": "#%% md\n"
    }
   },
   "source": [
    "The spread of the data had values that were too small to fit between Z scores of -3 and 3.\\\n",
    "I resorted to removing outliers in the column of 'NO'.\\\n",
    "Using the function 'remove_outliers' for tensorflow/Tutorial, I removed any outliers in column 'NO' that had a value beyond the SD\n"
   ]
  },
  {
   "cell_type": "markdown",
   "metadata": {
    "collapsed": false,
    "pycharm": {
     "name": "#%% md\n"
    }
   },
   "source": [
    "# Duplicates/Dropping Fields"
   ]
  },
  {
   "cell_type": "code",
   "execution_count": null,
   "metadata": {
    "collapsed": false,
    "pycharm": {
     "name": "#%%\n"
    }
   },
   "outputs": [],
   "source": [
    "dups = data.duplicated()\n",
    "print('Number of duplicated rows = %d' % (dups.sum()))\n",
    "data.loc[[45044,45045]]"
   ]
  },
  {
   "cell_type": "markdown",
   "metadata": {
    "collapsed": false,
    "pycharm": {
     "name": "#%% md\n"
    }
   },
   "source": [
    "The instances in this data set seems to not have any duplicates but that is due to the time intervales. If we drop the 'ReadingDateTime' we can truely see how many duplicated instances there are. "
   ]
  },
  {
   "cell_type": "code",
   "execution_count": null,
   "metadata": {
    "collapsed": false,
    "pycharm": {
     "name": "#%%\n"
    }
   },
   "outputs": [],
   "source": [
    "data2 = data.drop(['ReadingDateTime'], axis=1)\n",
    "\n",
    "dups2 = data2.duplicated()\n",
    "print('Number of duplicated rows: %d' % (dups2.sum()))\n",
    "data2.tail()\n"
   ]
  },
  {
   "cell_type": "code",
   "execution_count": null,
   "metadata": {
    "collapsed": false,
    "pycharm": {
     "name": "#%%\n"
    }
   },
   "outputs": [],
   "source": [
    "print('Number of rows before discarding duplicates = %d' % (data2.shape[0]))\n",
    "noDups = data2.drop_duplicates()\n",
    "print('Number of rows after discarding duplicates = %d' % (noDups.shape[0]))\n"
   ]
  },
  {
   "cell_type": "markdown",
   "metadata": {
    "pycharm": {
     "name": "#%% md\n"
    }
   },
   "source": [
    "\n",
    "\n",
    "# Dropping a Column\n",
    "The column 'Site' is the same for all the data in the dataset, hence, it will be dropped for a better reading of the data. "
   ]
  },
  {
   "cell_type": "code",
   "execution_count": 1,
   "metadata": {
    "pycharm": {
     "is_executing": true,
     "name": "#%%\n"
    }
   },
   "outputs": [
    {
     "name": "stdout",
     "output_type": "stream",
     "text": [
      "Number of instances = 175200\n",
      "Number of attributes = 5\n"
     ]
    },
    {
     "data": {
      "text/html": [
       "<div>\n",
       "<style scoped>\n",
       "    .dataframe tbody tr th:only-of-type {\n",
       "        vertical-align: middle;\n",
       "    }\n",
       "\n",
       "    .dataframe tbody tr th {\n",
       "        vertical-align: top;\n",
       "    }\n",
       "\n",
       "    .dataframe thead th {\n",
       "        text-align: right;\n",
       "    }\n",
       "</style>\n",
       "<table border=\"1\" class=\"dataframe\">\n",
       "  <thead>\n",
       "    <tr style=\"text-align: right;\">\n",
       "      <th></th>\n",
       "      <th>Species</th>\n",
       "      <th>ReadingDateTime</th>\n",
       "      <th>Value</th>\n",
       "      <th>Units</th>\n",
       "      <th>Provisional or Ratified</th>\n",
       "    </tr>\n",
       "  </thead>\n",
       "  <tbody>\n",
       "    <tr>\n",
       "      <th>175195</th>\n",
       "      <td>O3</td>\n",
       "      <td>31/12/2018 22:45</td>\n",
       "      <td>57.0</td>\n",
       "      <td>ug m-3</td>\n",
       "      <td>R</td>\n",
       "    </tr>\n",
       "    <tr>\n",
       "      <th>175196</th>\n",
       "      <td>O3</td>\n",
       "      <td>31/12/2018 23:00</td>\n",
       "      <td>61.1</td>\n",
       "      <td>ug m-3</td>\n",
       "      <td>R</td>\n",
       "    </tr>\n",
       "    <tr>\n",
       "      <th>175197</th>\n",
       "      <td>O3</td>\n",
       "      <td>31/12/2018 23:15</td>\n",
       "      <td>61.1</td>\n",
       "      <td>ug m-3</td>\n",
       "      <td>R</td>\n",
       "    </tr>\n",
       "    <tr>\n",
       "      <th>175198</th>\n",
       "      <td>O3</td>\n",
       "      <td>31/12/2018 23:30</td>\n",
       "      <td>61.1</td>\n",
       "      <td>ug m-3</td>\n",
       "      <td>R</td>\n",
       "    </tr>\n",
       "    <tr>\n",
       "      <th>175199</th>\n",
       "      <td>O3</td>\n",
       "      <td>31/12/2018 23:45</td>\n",
       "      <td>61.1</td>\n",
       "      <td>ug m-3</td>\n",
       "      <td>R</td>\n",
       "    </tr>\n",
       "  </tbody>\n",
       "</table>\n",
       "</div>"
      ],
      "text/plain": [
       "       Species   ReadingDateTime  Value   Units Provisional or Ratified\n",
       "175195      O3  31/12/2018 22:45   57.0  ug m-3                       R\n",
       "175196      O3  31/12/2018 23:00   61.1  ug m-3                       R\n",
       "175197      O3  31/12/2018 23:15   61.1  ug m-3                       R\n",
       "175198      O3  31/12/2018 23:30   61.1  ug m-3                       R\n",
       "175199      O3  31/12/2018 23:45   61.1  ug m-3                       R"
      ]
     },
     "execution_count": 1,
     "metadata": {},
     "output_type": "execute_result"
    }
   ],
   "source": [
    "import pandas as pd\n",
    "\n",
    "data = pd.read_csv('LaqnData.csv')\n",
    "\n",
    "# site values are all the same, hence, they are being dropped \n",
    "# to not be accounted in the attribute count\n",
    "data = data.drop(['Site'],  axis = 1)\n",
    "\n",
    "\n",
    "print('Number of instances = %d' % (data.shape[0]))\n",
    "print('Number of attributes = %d' % (data.shape[1]))\n",
    "\n",
    "data.tail()"
   ]
  },
  {
   "cell_type": "markdown",
   "metadata": {
    "pycharm": {
     "name": "#%% md\n"
    }
   },
   "source": [
    "Most instances contain a value of 'NaN' in the column 'Value'. Hence, data.tail() was called in order to get a better representation of the data. "
   ]
  },
  {
   "cell_type": "markdown",
   "metadata": {
    "pycharm": {
     "name": "#%% md\n"
    }
   },
   "source": [
    "# Missing Values"
   ]
  },
  {
   "cell_type": "code",
   "execution_count": 48,
   "metadata": {
    "pycharm": {
     "name": "#%%\n"
    }
   },
   "outputs": [
    {
     "name": "stdout",
     "output_type": "stream",
     "text": [
      "Number of instances = 175200\n",
      "Number of attributes = 6\n",
      "Number of missing values:\n",
      "\tSite: 0\n",
      "\tSpecies: 0\n",
      "\tReadingDateTime: 0\n",
      "\tValue: 43476\n",
      "\tUnits: 0\n",
      "\tProvisional or Ratified: 0\n"
     ]
    }
   ],
   "source": [
    "import numpy as np \n",
    "data.replace('',np.NaN)\n",
    "\n",
    "print('Number of instances = %d' % (data.shape[0]))\n",
    "print('Number of attributes = %d' % (data.shape[1]))\n",
    "\n",
    "print('Number of missing values:')\n",
    "for col in data.columns:\n",
    "    print('\\t%s: %d' % (col, data[col].isna().sum()))\n"
   ]
  },
  {
   "cell_type": "markdown",
   "metadata": {
    "pycharm": {
     "name": "#%% md\n"
    }
   },
   "source": [
    "Here we see that the attribute 'Value' is missing from 43,476 instances.\\\n",
    "They are then replaced with NaN (Not a Number)\\\n",
    "By having NaN in the missing values we use dropna() to drop any NaN values. "
   ]
  },
  {
   "cell_type": "code",
   "execution_count": 112,
   "metadata": {
    "pycharm": {
     "name": "#%%\n"
    }
   },
   "outputs": [
    {
     "name": "stdout",
     "output_type": "stream",
     "text": [
      "Before replacing missing values:\n",
      "35035    NaN\n",
      "35036    NaN\n",
      "35037    NaN\n",
      "35038    NaN\n",
      "35039    NaN\n",
      "35040    7.1\n",
      "35041    7.1\n",
      "35042    7.1\n",
      "35043    7.1\n",
      "35044    5.1\n",
      "Name: Value, dtype: float64\n",
      "\n",
      "Number of rows before discarding missing values = 175200\n",
      "Number of rows after discarding missing values = 131724\n"
     ]
    }
   ],
   "source": [
    "data2 = data['Value']\n",
    "print('Before replacing missing values:')\n",
    "\n",
    "print(data2[35035:35045])\n",
    "\n",
    "data3 = data2.dropna()\n",
    "print('\\nNumber of rows before discarding missing values = %d' % (data.shape[0]))\n",
    "print('Number of rows after discarding missing values = %d' % (data3.shape[0]))"
   ]
  },
  {
   "cell_type": "markdown",
   "metadata": {
    "pycharm": {
     "name": "#%% md\n"
    }
   },
   "source": [
    "By dropping NaN values we cause the Speices 'CO' disappears due to all of it's values containing NaN"
   ]
  },
  {
   "cell_type": "markdown",
   "metadata": {
    "pycharm": {
     "name": "#%% md\n"
    }
   },
   "source": [
    "# Outliers"
   ]
  },
  {
   "cell_type": "markdown",
   "metadata": {
    "pycharm": {
     "name": "#%% md\n"
    }
   },
   "source": [
    "To plot the data for outliers we pull up 2 rows, one with NaN values and another with a value for 'Value'.\\\n",
    "We want to be able to plot this data but based of the 'Species' to have a better representation of the each individual Species.\\"
   ]
  },
  {
   "cell_type": "code",
   "execution_count": 113,
   "metadata": {
    "pycharm": {
     "name": "#%%\n"
    }
   },
   "outputs": [
    {
     "data": {
      "text/html": [
       "<div>\n",
       "<style scoped>\n",
       "    .dataframe tbody tr th:only-of-type {\n",
       "        vertical-align: middle;\n",
       "    }\n",
       "\n",
       "    .dataframe tbody tr th {\n",
       "        vertical-align: top;\n",
       "    }\n",
       "\n",
       "    .dataframe thead th {\n",
       "        text-align: right;\n",
       "    }\n",
       "</style>\n",
       "<table border=\"1\" class=\"dataframe\">\n",
       "  <thead>\n",
       "    <tr style=\"text-align: right;\">\n",
       "      <th></th>\n",
       "      <th>Species</th>\n",
       "      <th>ReadingDateTime</th>\n",
       "      <th>Value</th>\n",
       "      <th>Units</th>\n",
       "      <th>Provisional or Ratified</th>\n",
       "    </tr>\n",
       "  </thead>\n",
       "  <tbody>\n",
       "    <tr>\n",
       "      <th>35039</th>\n",
       "      <td>CO</td>\n",
       "      <td>31/12/2018 23:45</td>\n",
       "      <td>NaN</td>\n",
       "      <td>mg m-3</td>\n",
       "      <td>P</td>\n",
       "    </tr>\n",
       "    <tr>\n",
       "      <th>35042</th>\n",
       "      <td>NO</td>\n",
       "      <td>01/01/2018 00:30</td>\n",
       "      <td>7.1</td>\n",
       "      <td>ug m-3</td>\n",
       "      <td>R</td>\n",
       "    </tr>\n",
       "  </tbody>\n",
       "</table>\n",
       "</div>"
      ],
      "text/plain": [
       "      Species   ReadingDateTime  Value   Units Provisional or Ratified\n",
       "35039      CO  31/12/2018 23:45    NaN  mg m-3                       P\n",
       "35042      NO  01/01/2018 00:30    7.1  ug m-3                       R"
      ]
     },
     "execution_count": 113,
     "metadata": {},
     "output_type": "execute_result"
    }
   ],
   "source": [
    "\n",
    "data.loc[[35039,35042]]\n"
   ]
  },
  {
   "cell_type": "markdown",
   "metadata": {
    "pycharm": {
     "name": "#%% md\n"
    }
   },
   "source": [
    "In order to make a boxplot we have to pivot the table to differentiate the types of sepcies and plot them based of each species"
   ]
  },
  {
   "cell_type": "code",
   "execution_count": 142,
   "metadata": {
    "pycharm": {
     "name": "#%%\n"
    }
   },
   "outputs": [
    {
     "name": "stdout",
     "output_type": "stream",
     "text": [
      "Species   NO  NO2  NOX    O3\n",
      "35040    7.1  NaN  NaN   NaN\n",
      "35041    7.1  NaN  NaN   NaN\n",
      "35042    7.1  NaN  NaN   NaN\n",
      "35043    7.1  NaN  NaN   NaN\n",
      "35044    5.1  NaN  NaN   NaN\n",
      "...      ...  ...  ...   ...\n",
      "175195   NaN  NaN  NaN  57.0\n",
      "175196   NaN  NaN  NaN  61.1\n",
      "175197   NaN  NaN  NaN  61.1\n",
      "175198   NaN  NaN  NaN  61.1\n",
      "175199   NaN  NaN  NaN  61.1\n",
      "\n",
      "[131724 rows x 4 columns]\n",
      "Species            NO           NO2           NOX            O3\n",
      "count    32456.000000  32448.000000  32448.000000  34372.000000\n",
      "mean        27.235408     46.444181     88.212722     31.307599\n",
      "std         38.191522     29.211803     81.162884     25.761797\n",
      "min          0.000000      0.700000      3.700000      0.500000\n",
      "25%          3.100000     21.800000     27.600000      8.900000\n",
      "50%         12.500000     42.500000     65.550000     27.200000\n",
      "75%         35.200000     66.300000    123.200000     47.400000\n",
      "max        347.899990    165.700000    643.900020    153.800000\n"
     ]
    },
    {
     "data": {
      "text/plain": [
       "<Axes: >"
      ]
     },
     "execution_count": 142,
     "metadata": {},
     "output_type": "execute_result"
    },
    {
     "data": {
      "image/png": "[encoded data removed]",
      "text/plain": [
       "<Figure size 2000x1000 with 1 Axes>"
      ]
     },
     "metadata": {},
     "output_type": "display_data"
    }
   ],
   "source": [
    "%matplotlib inline\n",
    "data4 = data.pivot_table(values='Value', index=data.index, columns='Species', aggfunc='first')\n",
    "data4['NO'] = pd.to_numeric(data4['NO'])\n",
    "\n",
    "print(data4)\n",
    "print(data4.describe())\n",
    "\n",
    "data4.boxplot(figsize=(20,10))"
   ]
  },
  {
   "cell_type": "markdown",
   "metadata": {
    "pycharm": {
     "name": "#%% md\n"
    }
   },
   "source": [
    "Based of these boxplots we can cleary that each Species contains several outliers. "
   ]
  },
  {
   "cell_type": "code",
   "execution_count": 116,
   "metadata": {
    "pycharm": {
     "name": "#%%\n"
    }
   },
   "outputs": [
    {
     "name": "stdout",
     "output_type": "stream",
     "text": [
      "Species        NO  NO2  NOX        O3\n",
      "35040   -0.527222  NaN  NaN       NaN\n",
      "35041   -0.527222  NaN  NaN       NaN\n",
      "35042   -0.527222  NaN  NaN       NaN\n",
      "35043   -0.527222  NaN  NaN       NaN\n",
      "35044   -0.579590  NaN  NaN       NaN\n",
      "...           ...  ...  ...       ...\n",
      "175195        NaN  NaN  NaN  0.997306\n",
      "175196        NaN  NaN  NaN  1.156457\n",
      "175197        NaN  NaN  NaN  1.156457\n",
      "175198        NaN  NaN  NaN  1.156457\n",
      "175199        NaN  NaN  NaN  1.156457\n",
      "\n",
      "[131724 rows x 4 columns]\n"
     ]
    }
   ],
   "source": [
    "Z = (data4-data4.mean())/data4.std()\n",
    "print(Z)\n",
    "#print(Z.describe())\n",
    "Z.to_csv('z.csv', index=False)"
   ]
  },
  {
   "cell_type": "markdown",
   "metadata": {
    "pycharm": {
     "name": "#%% md\n"
    }
   },
   "source": [
    "Using the describe function to see the values of Z we can tell that our values are too low.\\\n",
    "This will discard every datapoint we have when using a Z score between -3 and 3"
   ]
  },
  {
   "cell_type": "code",
   "execution_count": 141,
   "metadata": {
    "pycharm": {
     "name": "#%%\n"
    }
   },
   "outputs": [
    {
     "name": "stdout",
     "output_type": "stream",
     "text": [
      "Number of rows before discarding outliers = 131724\n",
      "Number of rows after discarding missing vlaues = 0\n",
      "\n",
      "Lenght before removing outliers in NO: 112236\n",
      "Length after removing outliers in NO : 111740\n"
     ]
    }
   ],
   "source": [
    "def remove_outliers(df, name, sd):\n",
    "    drop_rows = df.index[(np.abs(df[name] - df[name].mean()) >= (sd * df[name].std()))]\n",
    "    df.drop(drop_rows, axis=0, inplace=True)\n",
    "    \n",
    "print('Number of rows before discarding outliers = %d' % (Z.shape[0]))\n",
    "\n",
    "Z2 = Z.loc[((Z > -3).sum(axis=1)==4) & ((Z <= 3).sum(axis=1)==4),:]\n",
    "print('Number of rows after discarding missing vlaues = %d' % (Z2.shape[0]))\n",
    "\n",
    "\n",
    "print('\\nLenght before removing outliers in NO: {}'.format(len(data4)))\n",
    "remove_outliers(data4, 'NO', 2)\n",
    "print('Length after removing outliers in NO : {}'.format(len(data4)))\n"
   ]
  },
  {
   "cell_type": "markdown",
   "metadata": {
    "pycharm": {
     "name": "#%% md\n"
    }
   },
   "source": [
    "The spread of the data had values that were too small to fit between Z scores of -3 and 3.\\\n",
    "I resorted to removing outliers in the column of 'NO'.\\\n",
    "Using the function 'remove_outliers' for tensorflow/Tutorial, I removed any outliers in column 'NO' that had a value beyond the SD\n"
   ]
  },
  {
   "cell_type": "markdown",
   "metadata": {
    "pycharm": {
     "name": "#%% md\n"
    }
   },
   "source": [
    "# Duplicates/Dropping Fields"
   ]
  },
  {
   "cell_type": "code",
   "execution_count": 115,
   "metadata": {
    "pycharm": {
     "name": "#%%\n"
    }
   },
   "outputs": [
    {
     "name": "stdout",
     "output_type": "stream",
     "text": [
      "Number of duplicated rows = 0\n"
     ]
    },
    {
     "data": {
      "text/html": [
       "<div>\n",
       "<style scoped>\n",
       "    .dataframe tbody tr th:only-of-type {\n",
       "        vertical-align: middle;\n",
       "    }\n",
       "\n",
       "    .dataframe tbody tr th {\n",
       "        vertical-align: top;\n",
       "    }\n",
       "\n",
       "    .dataframe thead th {\n",
       "        text-align: right;\n",
       "    }\n",
       "</style>\n",
       "<table border=\"1\" class=\"dataframe\">\n",
       "  <thead>\n",
       "    <tr style=\"text-align: right;\">\n",
       "      <th></th>\n",
       "      <th>Species</th>\n",
       "      <th>ReadingDateTime</th>\n",
       "      <th>Value</th>\n",
       "      <th>Units</th>\n",
       "      <th>Provisional or Ratified</th>\n",
       "    </tr>\n",
       "  </thead>\n",
       "  <tbody>\n",
       "    <tr>\n",
       "      <th>45044</th>\n",
       "      <td>NO</td>\n",
       "      <td>15/04/2018 05:00</td>\n",
       "      <td>53.9</td>\n",
       "      <td>ug m-3</td>\n",
       "      <td>R</td>\n",
       "    </tr>\n",
       "    <tr>\n",
       "      <th>45045</th>\n",
       "      <td>NO</td>\n",
       "      <td>15/04/2018 05:15</td>\n",
       "      <td>53.9</td>\n",
       "      <td>ug m-3</td>\n",
       "      <td>R</td>\n",
       "    </tr>\n",
       "  </tbody>\n",
       "</table>\n",
       "</div>"
      ],
      "text/plain": [
       "      Species   ReadingDateTime  Value   Units Provisional or Ratified\n",
       "45044      NO  15/04/2018 05:00   53.9  ug m-3                       R\n",
       "45045      NO  15/04/2018 05:15   53.9  ug m-3                       R"
      ]
     },
     "execution_count": 115,
     "metadata": {},
     "output_type": "execute_result"
    }
   ],
   "source": [
    "dups = data.duplicated()\n",
    "print('Number of duplicated rows = %d' % (dups.sum()))\n",
    "data.loc[[45044,45045]]"
   ]
  },
  {
   "cell_type": "markdown",
   "metadata": {
    "pycharm": {
     "name": "#%% md\n"
    }
   },
   "source": [
    "The instances in this data set seems to not have any duplicates but that is due to the time intervales. If we drop the 'ReadingDateTime' we can truely see how many duplicated instances there are. "
   ]
  },
  {
   "cell_type": "code",
   "execution_count": 116,
   "metadata": {
    "pycharm": {
     "name": "#%%\n"
    }
   },
   "outputs": [
    {
     "name": "stdout",
     "output_type": "stream",
     "text": [
      "Number of duplicated rows: 169262\n"
     ]
    },
    {
     "data": {
      "text/html": [
       "<div>\n",
       "<style scoped>\n",
       "    .dataframe tbody tr th:only-of-type {\n",
       "        vertical-align: middle;\n",
       "    }\n",
       "\n",
       "    .dataframe tbody tr th {\n",
       "        vertical-align: top;\n",
       "    }\n",
       "\n",
       "    .dataframe thead th {\n",
       "        text-align: right;\n",
       "    }\n",
       "</style>\n",
       "<table border=\"1\" class=\"dataframe\">\n",
       "  <thead>\n",
       "    <tr style=\"text-align: right;\">\n",
       "      <th></th>\n",
       "      <th>Species</th>\n",
       "      <th>Value</th>\n",
       "      <th>Units</th>\n",
       "      <th>Provisional or Ratified</th>\n",
       "    </tr>\n",
       "  </thead>\n",
       "  <tbody>\n",
       "    <tr>\n",
       "      <th>175195</th>\n",
       "      <td>O3</td>\n",
       "      <td>57.0</td>\n",
       "      <td>ug m-3</td>\n",
       "      <td>R</td>\n",
       "    </tr>\n",
       "    <tr>\n",
       "      <th>175196</th>\n",
       "      <td>O3</td>\n",
       "      <td>61.1</td>\n",
       "      <td>ug m-3</td>\n",
       "      <td>R</td>\n",
       "    </tr>\n",
       "    <tr>\n",
       "      <th>175197</th>\n",
       "      <td>O3</td>\n",
       "      <td>61.1</td>\n",
       "      <td>ug m-3</td>\n",
       "      <td>R</td>\n",
       "    </tr>\n",
       "    <tr>\n",
       "      <th>175198</th>\n",
       "      <td>O3</td>\n",
       "      <td>61.1</td>\n",
       "      <td>ug m-3</td>\n",
       "      <td>R</td>\n",
       "    </tr>\n",
       "    <tr>\n",
       "      <th>175199</th>\n",
       "      <td>O3</td>\n",
       "      <td>61.1</td>\n",
       "      <td>ug m-3</td>\n",
       "      <td>R</td>\n",
       "    </tr>\n",
       "  </tbody>\n",
       "</table>\n",
       "</div>"
      ],
      "text/plain": [
       "       Species  Value   Units Provisional or Ratified\n",
       "175195      O3   57.0  ug m-3                       R\n",
       "175196      O3   61.1  ug m-3                       R\n",
       "175197      O3   61.1  ug m-3                       R\n",
       "175198      O3   61.1  ug m-3                       R\n",
       "175199      O3   61.1  ug m-3                       R"
      ]
     },
     "execution_count": 116,
     "metadata": {},
     "output_type": "execute_result"
    }
   ],
   "source": [
    "data2 = data.drop(['ReadingDateTime'], axis=1)\n",
    "\n",
    "dups2 = data2.duplicated()\n",
    "print('Number of duplicated rows: %d' % (dups2.sum()))\n",
    "data2.tail()\n"
   ]
  },
  {
   "cell_type": "code",
   "execution_count": 117,
   "metadata": {
    "pycharm": {
     "name": "#%%\n"
    }
   },
   "outputs": [
    {
     "name": "stdout",
     "output_type": "stream",
     "text": [
      "Number of rows before discarding duplicates = 175200\n",
      "Number of rows after discarding duplicates = 5938\n"
     ]
    }
   ],
   "source": [
    "print('Number of rows before discarding duplicates = %d' % (data2.shape[0]))\n",
    "noDups = data2.drop_duplicates()\n",
    "print('Number of rows after discarding duplicates = %d' % (noDups.shape[0]))\n"
   ]
  },
  {
   "cell_type": "markdown",
   "metadata": {
    "collapsed": false,
    "jupyter": {
     "outputs_hidden": false
    },
    "pycharm": {
     "name": "#%% md\n"
    }
   },
   "source": [
    "## Create a dataframe by reading a CSV file\n"
   ]
  },
  {
   "cell_type": "code",
   "execution_count": 2,
   "metadata": {
    "collapsed": false,
    "jupyter": {
     "outputs_hidden": false
    },
    "pycharm": {
     "is_executing": true,
     "name": "#%%\n"
    }
   },
   "outputs": [
    {
     "data": {
      "text/html": [
       "<div>\n",
       "<style scoped>\n",
       "    .dataframe tbody tr th:only-of-type {\n",
       "        vertical-align: middle;\n",
       "    }\n",
       "\n",
       "    .dataframe tbody tr th {\n",
       "        vertical-align: top;\n",
       "    }\n",
       "\n",
       "    .dataframe thead th {\n",
       "        text-align: right;\n",
       "    }\n",
       "</style>\n",
       "<table border=\"1\" class=\"dataframe\">\n",
       "  <thead>\n",
       "    <tr style=\"text-align: right;\">\n",
       "      <th></th>\n",
       "      <th>Site</th>\n",
       "      <th>Species</th>\n",
       "      <th>ReadingDateTime</th>\n",
       "      <th>Value</th>\n",
       "      <th>Units</th>\n",
       "      <th>Provisional or Ratified</th>\n",
       "    </tr>\n",
       "  </thead>\n",
       "  <tbody>\n",
       "    <tr>\n",
       "      <th>0</th>\n",
       "      <td>HI0</td>\n",
       "      <td>CO</td>\n",
       "      <td>01/01/2018 00:00</td>\n",
       "      <td>NaN</td>\n",
       "      <td>mg m-3</td>\n",
       "      <td>P</td>\n",
       "    </tr>\n",
       "    <tr>\n",
       "      <th>1</th>\n",
       "      <td>HI0</td>\n",
       "      <td>CO</td>\n",
       "      <td>01/01/2018 00:15</td>\n",
       "      <td>NaN</td>\n",
       "      <td>mg m-3</td>\n",
       "      <td>P</td>\n",
       "    </tr>\n",
       "    <tr>\n",
       "      <th>2</th>\n",
       "      <td>HI0</td>\n",
       "      <td>CO</td>\n",
       "      <td>01/01/2018 00:30</td>\n",
       "      <td>NaN</td>\n",
       "      <td>mg m-3</td>\n",
       "      <td>P</td>\n",
       "    </tr>\n",
       "    <tr>\n",
       "      <th>3</th>\n",
       "      <td>HI0</td>\n",
       "      <td>CO</td>\n",
       "      <td>01/01/2018 00:45</td>\n",
       "      <td>NaN</td>\n",
       "      <td>mg m-3</td>\n",
       "      <td>P</td>\n",
       "    </tr>\n",
       "    <tr>\n",
       "      <th>4</th>\n",
       "      <td>HI0</td>\n",
       "      <td>CO</td>\n",
       "      <td>01/01/2018 01:00</td>\n",
       "      <td>NaN</td>\n",
       "      <td>mg m-3</td>\n",
       "      <td>P</td>\n",
       "    </tr>\n",
       "    <tr>\n",
       "      <th>...</th>\n",
       "      <td>...</td>\n",
       "      <td>...</td>\n",
       "      <td>...</td>\n",
       "      <td>...</td>\n",
       "      <td>...</td>\n",
       "      <td>...</td>\n",
       "    </tr>\n",
       "    <tr>\n",
       "      <th>175195</th>\n",
       "      <td>HI0</td>\n",
       "      <td>O3</td>\n",
       "      <td>31/12/2018 22:45</td>\n",
       "      <td>57.0</td>\n",
       "      <td>ug m-3</td>\n",
       "      <td>R</td>\n",
       "    </tr>\n",
       "    <tr>\n",
       "      <th>175196</th>\n",
       "      <td>HI0</td>\n",
       "      <td>O3</td>\n",
       "      <td>31/12/2018 23:00</td>\n",
       "      <td>61.1</td>\n",
       "      <td>ug m-3</td>\n",
       "      <td>R</td>\n",
       "    </tr>\n",
       "    <tr>\n",
       "      <th>175197</th>\n",
       "      <td>HI0</td>\n",
       "      <td>O3</td>\n",
       "      <td>31/12/2018 23:15</td>\n",
       "      <td>61.1</td>\n",
       "      <td>ug m-3</td>\n",
       "      <td>R</td>\n",
       "    </tr>\n",
       "    <tr>\n",
       "      <th>175198</th>\n",
       "      <td>HI0</td>\n",
       "      <td>O3</td>\n",
       "      <td>31/12/2018 23:30</td>\n",
       "      <td>61.1</td>\n",
       "      <td>ug m-3</td>\n",
       "      <td>R</td>\n",
       "    </tr>\n",
       "    <tr>\n",
       "      <th>175199</th>\n",
       "      <td>HI0</td>\n",
       "      <td>O3</td>\n",
       "      <td>31/12/2018 23:45</td>\n",
       "      <td>61.1</td>\n",
       "      <td>ug m-3</td>\n",
       "      <td>R</td>\n",
       "    </tr>\n",
       "  </tbody>\n",
       "</table>\n",
       "<p>175200 rows × 6 columns</p>\n",
       "</div>"
      ],
      "text/plain": [
       "       Site Species   ReadingDateTime  Value   Units Provisional or Ratified\n",
       "0       HI0      CO  01/01/2018 00:00    NaN  mg m-3                       P\n",
       "1       HI0      CO  01/01/2018 00:15    NaN  mg m-3                       P\n",
       "2       HI0      CO  01/01/2018 00:30    NaN  mg m-3                       P\n",
       "3       HI0      CO  01/01/2018 00:45    NaN  mg m-3                       P\n",
       "4       HI0      CO  01/01/2018 01:00    NaN  mg m-3                       P\n",
       "...     ...     ...               ...    ...     ...                     ...\n",
       "175195  HI0      O3  31/12/2018 22:45   57.0  ug m-3                       R\n",
       "175196  HI0      O3  31/12/2018 23:00   61.1  ug m-3                       R\n",
       "175197  HI0      O3  31/12/2018 23:15   61.1  ug m-3                       R\n",
       "175198  HI0      O3  31/12/2018 23:30   61.1  ug m-3                       R\n",
       "175199  HI0      O3  31/12/2018 23:45   61.1  ug m-3                       R\n",
       "\n",
       "[175200 rows x 6 columns]"
      ]
     },
     "execution_count": 2,
     "metadata": {},
     "output_type": "execute_result"
    }
   ],
   "source": [
    "import os\n",
    "import numpy as np\n",
    "import pandas as pd\n",
    "\n",
    "path= \"\"\n",
    "filename_read = os.path.join(path, \"LaqnData.csv\")\n",
    "df = pd.read_csv(filename_read, na_values=['Nan', '?'])\n",
    "df"
   ]
  },
  {
   "cell_type": "markdown",
   "metadata": {
    "collapsed": false,
    "jupyter": {
     "outputs_hidden": false
    },
    "pycharm": {
     "name": "#%% md\n"
    }
   },
   "source": [
    "## Shuffle the dataframe\n",
    "It is also possible to shuffle the data in the dataframe."
   ]
  },
  {
   "cell_type": "code",
   "execution_count": 3,
   "metadata": {
    "collapsed": false,
    "jupyter": {
     "outputs_hidden": false
    },
    "pycharm": {
     "name": "#%%\n"
    }
   },
   "outputs": [
    {
     "data": {
      "text/html": [
       "<div>\n",
       "<style scoped>\n",
       "    .dataframe tbody tr th:only-of-type {\n",
       "        vertical-align: middle;\n",
       "    }\n",
       "\n",
       "    .dataframe tbody tr th {\n",
       "        vertical-align: top;\n",
       "    }\n",
       "\n",
       "    .dataframe thead th {\n",
       "        text-align: right;\n",
       "    }\n",
       "</style>\n",
       "<table border=\"1\" class=\"dataframe\">\n",
       "  <thead>\n",
       "    <tr style=\"text-align: right;\">\n",
       "      <th></th>\n",
       "      <th>Site</th>\n",
       "      <th>Species</th>\n",
       "      <th>ReadingDateTime</th>\n",
       "      <th>Value</th>\n",
       "      <th>Units</th>\n",
       "      <th>Provisional or Ratified</th>\n",
       "    </tr>\n",
       "  </thead>\n",
       "  <tbody>\n",
       "    <tr>\n",
       "      <th>156784</th>\n",
       "      <td>HI0</td>\n",
       "      <td>O3</td>\n",
       "      <td>23/06/2018 04:00</td>\n",
       "      <td>9.40000</td>\n",
       "      <td>ug m-3</td>\n",
       "      <td>R</td>\n",
       "    </tr>\n",
       "    <tr>\n",
       "      <th>142768</th>\n",
       "      <td>HI0</td>\n",
       "      <td>O3</td>\n",
       "      <td>28/01/2018 04:00</td>\n",
       "      <td>45.40000</td>\n",
       "      <td>ug m-3</td>\n",
       "      <td>R</td>\n",
       "    </tr>\n",
       "    <tr>\n",
       "      <th>447</th>\n",
       "      <td>HI0</td>\n",
       "      <td>CO</td>\n",
       "      <td>05/01/2018 15:45</td>\n",
       "      <td>NaN</td>\n",
       "      <td>mg m-3</td>\n",
       "      <td>P</td>\n",
       "    </tr>\n",
       "    <tr>\n",
       "      <th>5065</th>\n",
       "      <td>HI0</td>\n",
       "      <td>CO</td>\n",
       "      <td>22/02/2018 18:15</td>\n",
       "      <td>NaN</td>\n",
       "      <td>mg m-3</td>\n",
       "      <td>P</td>\n",
       "    </tr>\n",
       "    <tr>\n",
       "      <th>150728</th>\n",
       "      <td>HI0</td>\n",
       "      <td>O3</td>\n",
       "      <td>21/04/2018 02:00</td>\n",
       "      <td>37.30000</td>\n",
       "      <td>ug m-3</td>\n",
       "      <td>R</td>\n",
       "    </tr>\n",
       "    <tr>\n",
       "      <th>...</th>\n",
       "      <td>...</td>\n",
       "      <td>...</td>\n",
       "      <td>...</td>\n",
       "      <td>...</td>\n",
       "      <td>...</td>\n",
       "      <td>...</td>\n",
       "    </tr>\n",
       "    <tr>\n",
       "      <th>19489</th>\n",
       "      <td>HI0</td>\n",
       "      <td>CO</td>\n",
       "      <td>23/07/2018 00:15</td>\n",
       "      <td>NaN</td>\n",
       "      <td>mg m-3</td>\n",
       "      <td>P</td>\n",
       "    </tr>\n",
       "    <tr>\n",
       "      <th>101923</th>\n",
       "      <td>HI0</td>\n",
       "      <td>NO2</td>\n",
       "      <td>28/11/2018 16:45</td>\n",
       "      <td>50.50000</td>\n",
       "      <td>ug m-3</td>\n",
       "      <td>R</td>\n",
       "    </tr>\n",
       "    <tr>\n",
       "      <th>151372</th>\n",
       "      <td>HI0</td>\n",
       "      <td>O3</td>\n",
       "      <td>27/04/2018 19:00</td>\n",
       "      <td>7.60000</td>\n",
       "      <td>ug m-3</td>\n",
       "      <td>R</td>\n",
       "    </tr>\n",
       "    <tr>\n",
       "      <th>40907</th>\n",
       "      <td>HI0</td>\n",
       "      <td>NO</td>\n",
       "      <td>03/03/2018 02:45</td>\n",
       "      <td>4.40000</td>\n",
       "      <td>ug m-3</td>\n",
       "      <td>R</td>\n",
       "    </tr>\n",
       "    <tr>\n",
       "      <th>159519</th>\n",
       "      <td>HI0</td>\n",
       "      <td>O3</td>\n",
       "      <td>21/07/2018 15:45</td>\n",
       "      <td>131.89999</td>\n",
       "      <td>ug m-3</td>\n",
       "      <td>R</td>\n",
       "    </tr>\n",
       "  </tbody>\n",
       "</table>\n",
       "<p>175200 rows × 6 columns</p>\n",
       "</div>"
      ],
      "text/plain": [
       "       Site Species   ReadingDateTime      Value   Units  \\\n",
       "156784  HI0      O3  23/06/2018 04:00    9.40000  ug m-3   \n",
       "142768  HI0      O3  28/01/2018 04:00   45.40000  ug m-3   \n",
       "447     HI0      CO  05/01/2018 15:45        NaN  mg m-3   \n",
       "5065    HI0      CO  22/02/2018 18:15        NaN  mg m-3   \n",
       "150728  HI0      O3  21/04/2018 02:00   37.30000  ug m-3   \n",
       "...     ...     ...               ...        ...     ...   \n",
       "19489   HI0      CO  23/07/2018 00:15        NaN  mg m-3   \n",
       "101923  HI0     NO2  28/11/2018 16:45   50.50000  ug m-3   \n",
       "151372  HI0      O3  27/04/2018 19:00    7.60000  ug m-3   \n",
       "40907   HI0      NO  03/03/2018 02:45    4.40000  ug m-3   \n",
       "159519  HI0      O3  21/07/2018 15:45  131.89999  ug m-3   \n",
       "\n",
       "       Provisional or Ratified  \n",
       "156784                       R  \n",
       "142768                       R  \n",
       "447                          P  \n",
       "5065                         P  \n",
       "150728                       R  \n",
       "...                        ...  \n",
       "19489                        P  \n",
       "101923                       R  \n",
       "151372                       R  \n",
       "40907                        R  \n",
       "159519                       R  \n",
       "\n",
       "[175200 rows x 6 columns]"
      ]
     },
     "execution_count": 3,
     "metadata": {},
     "output_type": "execute_result"
    }
   ],
   "source": [
    "df = df.reindex(np.random.permutation(df.index))\n",
    "df"
   ]
  },
  {
   "cell_type": "markdown",
   "metadata": {
    "collapsed": false,
    "jupyter": {
     "outputs_hidden": false
    },
    "pycharm": {
     "name": "#%% md\n"
    }
   },
   "source": [
    "It is also possible to shuffle the data and reordering the indexes starting from 0 using 'reset_index'"
   ]
  },
  {
   "cell_type": "code",
   "execution_count": 4,
   "metadata": {
    "collapsed": false,
    "jupyter": {
     "outputs_hidden": false
    },
    "pycharm": {
     "name": "#%%\n"
    }
   },
   "outputs": [
    {
     "data": {
      "text/html": [
       "<div>\n",
       "<style scoped>\n",
       "    .dataframe tbody tr th:only-of-type {\n",
       "        vertical-align: middle;\n",
       "    }\n",
       "\n",
       "    .dataframe tbody tr th {\n",
       "        vertical-align: top;\n",
       "    }\n",
       "\n",
       "    .dataframe thead th {\n",
       "        text-align: right;\n",
       "    }\n",
       "</style>\n",
       "<table border=\"1\" class=\"dataframe\">\n",
       "  <thead>\n",
       "    <tr style=\"text-align: right;\">\n",
       "      <th></th>\n",
       "      <th>Site</th>\n",
       "      <th>Species</th>\n",
       "      <th>ReadingDateTime</th>\n",
       "      <th>Value</th>\n",
       "      <th>Units</th>\n",
       "      <th>Provisional or Ratified</th>\n",
       "    </tr>\n",
       "  </thead>\n",
       "  <tbody>\n",
       "    <tr>\n",
       "      <th>0</th>\n",
       "      <td>HI0</td>\n",
       "      <td>O3</td>\n",
       "      <td>23/06/2018 04:00</td>\n",
       "      <td>9.40000</td>\n",
       "      <td>ug m-3</td>\n",
       "      <td>R</td>\n",
       "    </tr>\n",
       "    <tr>\n",
       "      <th>1</th>\n",
       "      <td>HI0</td>\n",
       "      <td>O3</td>\n",
       "      <td>28/01/2018 04:00</td>\n",
       "      <td>45.40000</td>\n",
       "      <td>ug m-3</td>\n",
       "      <td>R</td>\n",
       "    </tr>\n",
       "    <tr>\n",
       "      <th>2</th>\n",
       "      <td>HI0</td>\n",
       "      <td>CO</td>\n",
       "      <td>05/01/2018 15:45</td>\n",
       "      <td>NaN</td>\n",
       "      <td>mg m-3</td>\n",
       "      <td>P</td>\n",
       "    </tr>\n",
       "    <tr>\n",
       "      <th>3</th>\n",
       "      <td>HI0</td>\n",
       "      <td>CO</td>\n",
       "      <td>22/02/2018 18:15</td>\n",
       "      <td>NaN</td>\n",
       "      <td>mg m-3</td>\n",
       "      <td>P</td>\n",
       "    </tr>\n",
       "    <tr>\n",
       "      <th>4</th>\n",
       "      <td>HI0</td>\n",
       "      <td>O3</td>\n",
       "      <td>21/04/2018 02:00</td>\n",
       "      <td>37.30000</td>\n",
       "      <td>ug m-3</td>\n",
       "      <td>R</td>\n",
       "    </tr>\n",
       "    <tr>\n",
       "      <th>...</th>\n",
       "      <td>...</td>\n",
       "      <td>...</td>\n",
       "      <td>...</td>\n",
       "      <td>...</td>\n",
       "      <td>...</td>\n",
       "      <td>...</td>\n",
       "    </tr>\n",
       "    <tr>\n",
       "      <th>175195</th>\n",
       "      <td>HI0</td>\n",
       "      <td>CO</td>\n",
       "      <td>23/07/2018 00:15</td>\n",
       "      <td>NaN</td>\n",
       "      <td>mg m-3</td>\n",
       "      <td>P</td>\n",
       "    </tr>\n",
       "    <tr>\n",
       "      <th>175196</th>\n",
       "      <td>HI0</td>\n",
       "      <td>NO2</td>\n",
       "      <td>28/11/2018 16:45</td>\n",
       "      <td>50.50000</td>\n",
       "      <td>ug m-3</td>\n",
       "      <td>R</td>\n",
       "    </tr>\n",
       "    <tr>\n",
       "      <th>175197</th>\n",
       "      <td>HI0</td>\n",
       "      <td>O3</td>\n",
       "      <td>27/04/2018 19:00</td>\n",
       "      <td>7.60000</td>\n",
       "      <td>ug m-3</td>\n",
       "      <td>R</td>\n",
       "    </tr>\n",
       "    <tr>\n",
       "      <th>175198</th>\n",
       "      <td>HI0</td>\n",
       "      <td>NO</td>\n",
       "      <td>03/03/2018 02:45</td>\n",
       "      <td>4.40000</td>\n",
       "      <td>ug m-3</td>\n",
       "      <td>R</td>\n",
       "    </tr>\n",
       "    <tr>\n",
       "      <th>175199</th>\n",
       "      <td>HI0</td>\n",
       "      <td>O3</td>\n",
       "      <td>21/07/2018 15:45</td>\n",
       "      <td>131.89999</td>\n",
       "      <td>ug m-3</td>\n",
       "      <td>R</td>\n",
       "    </tr>\n",
       "  </tbody>\n",
       "</table>\n",
       "<p>175200 rows × 6 columns</p>\n",
       "</div>"
      ],
      "text/plain": [
       "       Site Species   ReadingDateTime      Value   Units  \\\n",
       "0       HI0      O3  23/06/2018 04:00    9.40000  ug m-3   \n",
       "1       HI0      O3  28/01/2018 04:00   45.40000  ug m-3   \n",
       "2       HI0      CO  05/01/2018 15:45        NaN  mg m-3   \n",
       "3       HI0      CO  22/02/2018 18:15        NaN  mg m-3   \n",
       "4       HI0      O3  21/04/2018 02:00   37.30000  ug m-3   \n",
       "...     ...     ...               ...        ...     ...   \n",
       "175195  HI0      CO  23/07/2018 00:15        NaN  mg m-3   \n",
       "175196  HI0     NO2  28/11/2018 16:45   50.50000  ug m-3   \n",
       "175197  HI0      O3  27/04/2018 19:00    7.60000  ug m-3   \n",
       "175198  HI0      NO  03/03/2018 02:45    4.40000  ug m-3   \n",
       "175199  HI0      O3  21/07/2018 15:45  131.89999  ug m-3   \n",
       "\n",
       "       Provisional or Ratified  \n",
       "0                            R  \n",
       "1                            R  \n",
       "2                            P  \n",
       "3                            P  \n",
       "4                            R  \n",
       "...                        ...  \n",
       "175195                       P  \n",
       "175196                       R  \n",
       "175197                       R  \n",
       "175198                       R  \n",
       "175199                       R  \n",
       "\n",
       "[175200 rows x 6 columns]"
      ]
     },
     "execution_count": 4,
     "metadata": {},
     "output_type": "execute_result"
    }
   ],
   "source": [
    "df.reset_index(inplace=True, drop=True)\n",
    "df"
   ]
  },
  {
   "cell_type": "markdown",
   "metadata": {
    "collapsed": false,
    "jupyter": {
     "outputs_hidden": false
    },
    "pycharm": {
     "name": "#%% md\n"
    }
   },
   "source": [
    "## Sorting Dataframes\n",
    "We are also able to sort dataframes by a certain descriptor. In this example, let's sort by the value from least to greatest, then save the file."
   ]
  },
  {
   "cell_type": "code",
   "execution_count": 5,
   "metadata": {
    "collapsed": false,
    "jupyter": {
     "outputs_hidden": false
    },
    "pycharm": {
     "name": "#%%\n"
    }
   },
   "outputs": [
    {
     "data": {
      "text/html": [
       "<div>\n",
       "<style scoped>\n",
       "    .dataframe tbody tr th:only-of-type {\n",
       "        vertical-align: middle;\n",
       "    }\n",
       "\n",
       "    .dataframe tbody tr th {\n",
       "        vertical-align: top;\n",
       "    }\n",
       "\n",
       "    .dataframe thead th {\n",
       "        text-align: right;\n",
       "    }\n",
       "</style>\n",
       "<table border=\"1\" class=\"dataframe\">\n",
       "  <thead>\n",
       "    <tr style=\"text-align: right;\">\n",
       "      <th></th>\n",
       "      <th>Site</th>\n",
       "      <th>Species</th>\n",
       "      <th>ReadingDateTime</th>\n",
       "      <th>Value</th>\n",
       "      <th>Units</th>\n",
       "      <th>Provisional or Ratified</th>\n",
       "    </tr>\n",
       "  </thead>\n",
       "  <tbody>\n",
       "    <tr>\n",
       "      <th>41864</th>\n",
       "      <td>HI0</td>\n",
       "      <td>NO</td>\n",
       "      <td>13/03/2018 02:00</td>\n",
       "      <td>0.0</td>\n",
       "      <td>ug m-3</td>\n",
       "      <td>R</td>\n",
       "    </tr>\n",
       "    <tr>\n",
       "      <th>57599</th>\n",
       "      <td>HI0</td>\n",
       "      <td>NO</td>\n",
       "      <td>23/08/2018 23:45</td>\n",
       "      <td>0.0</td>\n",
       "      <td>ug m-3</td>\n",
       "      <td>R</td>\n",
       "    </tr>\n",
       "    <tr>\n",
       "      <th>40512</th>\n",
       "      <td>HI0</td>\n",
       "      <td>NO</td>\n",
       "      <td>27/02/2018 00:00</td>\n",
       "      <td>0.0</td>\n",
       "      <td>ug m-3</td>\n",
       "      <td>R</td>\n",
       "    </tr>\n",
       "    <tr>\n",
       "      <th>40513</th>\n",
       "      <td>HI0</td>\n",
       "      <td>NO</td>\n",
       "      <td>27/02/2018 00:15</td>\n",
       "      <td>0.0</td>\n",
       "      <td>ug m-3</td>\n",
       "      <td>R</td>\n",
       "    </tr>\n",
       "    <tr>\n",
       "      <th>40514</th>\n",
       "      <td>HI0</td>\n",
       "      <td>NO</td>\n",
       "      <td>27/02/2018 00:30</td>\n",
       "      <td>0.0</td>\n",
       "      <td>ug m-3</td>\n",
       "      <td>R</td>\n",
       "    </tr>\n",
       "    <tr>\n",
       "      <th>...</th>\n",
       "      <td>...</td>\n",
       "      <td>...</td>\n",
       "      <td>...</td>\n",
       "      <td>...</td>\n",
       "      <td>...</td>\n",
       "      <td>...</td>\n",
       "    </tr>\n",
       "    <tr>\n",
       "      <th>174203</th>\n",
       "      <td>HI0</td>\n",
       "      <td>O3</td>\n",
       "      <td>21/12/2018 14:45</td>\n",
       "      <td>NaN</td>\n",
       "      <td>ug m-3</td>\n",
       "      <td>R</td>\n",
       "    </tr>\n",
       "    <tr>\n",
       "      <th>174204</th>\n",
       "      <td>HI0</td>\n",
       "      <td>O3</td>\n",
       "      <td>21/12/2018 15:00</td>\n",
       "      <td>NaN</td>\n",
       "      <td>ug m-3</td>\n",
       "      <td>R</td>\n",
       "    </tr>\n",
       "    <tr>\n",
       "      <th>174205</th>\n",
       "      <td>HI0</td>\n",
       "      <td>O3</td>\n",
       "      <td>21/12/2018 15:15</td>\n",
       "      <td>NaN</td>\n",
       "      <td>ug m-3</td>\n",
       "      <td>R</td>\n",
       "    </tr>\n",
       "    <tr>\n",
       "      <th>174206</th>\n",
       "      <td>HI0</td>\n",
       "      <td>O3</td>\n",
       "      <td>21/12/2018 15:30</td>\n",
       "      <td>NaN</td>\n",
       "      <td>ug m-3</td>\n",
       "      <td>R</td>\n",
       "    </tr>\n",
       "    <tr>\n",
       "      <th>174207</th>\n",
       "      <td>HI0</td>\n",
       "      <td>O3</td>\n",
       "      <td>21/12/2018 15:45</td>\n",
       "      <td>NaN</td>\n",
       "      <td>ug m-3</td>\n",
       "      <td>R</td>\n",
       "    </tr>\n",
       "  </tbody>\n",
       "</table>\n",
       "<p>175200 rows × 6 columns</p>\n",
       "</div>"
      ],
      "text/plain": [
       "       Site Species   ReadingDateTime  Value   Units Provisional or Ratified\n",
       "41864   HI0      NO  13/03/2018 02:00    0.0  ug m-3                       R\n",
       "57599   HI0      NO  23/08/2018 23:45    0.0  ug m-3                       R\n",
       "40512   HI0      NO  27/02/2018 00:00    0.0  ug m-3                       R\n",
       "40513   HI0      NO  27/02/2018 00:15    0.0  ug m-3                       R\n",
       "40514   HI0      NO  27/02/2018 00:30    0.0  ug m-3                       R\n",
       "...     ...     ...               ...    ...     ...                     ...\n",
       "174203  HI0      O3  21/12/2018 14:45    NaN  ug m-3                       R\n",
       "174204  HI0      O3  21/12/2018 15:00    NaN  ug m-3                       R\n",
       "174205  HI0      O3  21/12/2018 15:15    NaN  ug m-3                       R\n",
       "174206  HI0      O3  21/12/2018 15:30    NaN  ug m-3                       R\n",
       "174207  HI0      O3  21/12/2018 15:45    NaN  ug m-3                       R\n",
       "\n",
       "[175200 rows x 6 columns]"
      ]
     },
     "execution_count": 5,
     "metadata": {},
     "output_type": "execute_result"
    }
   ],
   "source": [
    "import os\n",
    "import pandas as pd\n",
    "import numpy as np\n",
    "path =\"\"\n",
    "filename_read = os.path.join(path, \"LaqnData.csv\")\n",
    "df = pd.read_csv(filename_read, na_values=['Nan', '?'])\n",
    "df = df.sort_values(by='Value',ascending=True)\n",
    "df\n",
    "\n",
    "\n"
   ]
  },
  {
   "cell_type": "markdown",
   "metadata": {
    "collapsed": false,
    "jupyter": {
     "outputs_hidden": false
    },
    "pycharm": {
     "name": "#%% md\n"
    }
   },
   "source": [
    "Now the data is sorted by the value, in ascending order. We are also able to extract certain data from a specific index value:"
   ]
  },
  {
   "cell_type": "code",
   "execution_count": 6,
   "metadata": {
    "collapsed": false,
    "jupyter": {
     "outputs_hidden": false
    },
    "pycharm": {
     "name": "#%%\n"
    }
   },
   "outputs": [
    {
     "name": "stdout",
     "output_type": "stream",
     "text": [
      "The Value of the 50th entry is: 0.1\n"
     ]
    }
   ],
   "source": [
    "print(\"The Value of the 50th entry is: {}\".format(df['Value'].iloc[49]))"
   ]
  },
  {
   "cell_type": "markdown",
   "metadata": {
    "collapsed": false,
    "jupyter": {
     "outputs_hidden": false
    },
    "pycharm": {
     "name": "#%% md\n"
    }
   },
   "source": [
    "We are able to use 'iloc' and 'loc' to gather any value at a specific index.\n",
    "Now let's save the data to a new CSV File:"
   ]
  },
  {
   "cell_type": "code",
   "execution_count": 8,
   "metadata": {
    "collapsed": false,
    "jupyter": {
     "outputs_hidden": false
    },
    "pycharm": {
     "is_executing": true,
     "name": "#%%\n"
    }
   },
   "outputs": [
    {
     "name": "stdout",
     "output_type": "stream",
     "text": [
      "Saved file: LagnData_shuffled.csv\n"
     ]
    }
   ],
   "source": [
    "filename_write = os.path.join(path, \"LagnData_shuffled.csv\")\n",
    "df.to_csv(filename_write, index=False)\n",
    "print(\"Saved file: {}\".format(filename_write))"
   ]
  },
  {
   "cell_type": "markdown",
   "id": "8e6465de-7c8c-4cb9-a664-9a670780fc01",
   "metadata": {
    "pycharm": {
     "name": "#%% md\n"
    }
   },
   "source": [
    "## Feature Normalization\n",
    "In order to more easily compare values, we utilize feature normalization."
   ]
  },
  {
   "cell_type": "code",
   "execution_count": 6,
   "id": "e3b2cc94-b4a7-4165-8c20-f9688f682ec6",
   "metadata": {
    "pycharm": {
     "name": "#%%\n"
    }
   },
   "outputs": [
    {
     "data": {
      "text/plain": [
       "0         2.5\n",
       "1         1.9\n",
       "2         1.8\n",
       "3         0.9\n",
       "4         0.9\n",
       "         ... \n",
       "43795    11.2\n",
       "43796    11.5\n",
       "43797    11.8\n",
       "43798    11.3\n",
       "43799    13.8\n",
       "Name: Value, Length: 36287, dtype: float64"
      ]
     },
     "execution_count": 6,
     "metadata": {},
     "output_type": "execute_result"
    }
   ],
   "source": [
    "import os\n",
    "import pandas as pd\n",
    "import numpy as np\n",
    "from scipy.stats import zscore\n",
    "\n",
    "data = pd.read_csv('LaqnData.csv')\n",
    "data = data.dropna()\n",
    "\n",
    "data['Value']"
   ]
  },
  {
   "cell_type": "markdown",
   "id": "19d0e862-8261-4bd7-9088-6380885c59dd",
   "metadata": {
    "pycharm": {
     "name": "#%% md\n"
    }
   },
   "source": [
    "A type of feature normalization used is the z-score, as seen below. If Nans are not dropped, then after amending the table with the z-scores, the full Value column will be corrupted and format to NaNs."
   ]
  },
  {
   "cell_type": "code",
   "execution_count": 7,
   "id": "73387a0d-9b53-4d12-9e84-304e3478ce20",
   "metadata": {
    "pycharm": {
     "name": "#%%\n"
    }
   },
   "outputs": [
    {
     "data": {
      "text/plain": [
       "0       -0.987695\n",
       "1       -1.010757\n",
       "2       -1.014600\n",
       "3       -1.049193\n",
       "4       -1.049193\n",
       "           ...   \n",
       "43795   -0.653301\n",
       "43796   -0.641770\n",
       "43797   -0.630239\n",
       "43798   -0.649457\n",
       "43799   -0.553367\n",
       "Name: Value, Length: 36287, dtype: float64"
      ]
     },
     "execution_count": 7,
     "metadata": {},
     "output_type": "execute_result"
    }
   ],
   "source": [
    "data['Value'] = zscore(data['Value'])\n",
    "data['Value']"
   ]
  },
  {
   "cell_type": "markdown",
   "id": "5e2a5b42-a638-4a99-867b-2be41e2cdd69",
   "metadata": {
    "pycharm": {
     "name": "#%% md\n"
    }
   },
   "source": [
    "## Calculated Fields\n",
    "Creating and/or replacing previous column values with a correspondent value - such as replacing weight in pounds with weight in kilograms. Here, we will integrate the z-score created previously into the dataset as its own column."
   ]
  },
  {
   "cell_type": "code",
   "execution_count": 15,
   "id": "37b133b8-3fa7-4323-8a8f-e520f618273c",
   "metadata": {
    "pycharm": {
     "name": "#%%\n"
    }
   },
   "outputs": [
    {
     "data": {
      "text/html": [
       "<div>\n",
       "<style scoped>\n",
       "    .dataframe tbody tr th:only-of-type {\n",
       "        vertical-align: middle;\n",
       "    }\n",
       "\n",
       "    .dataframe tbody tr th {\n",
       "        vertical-align: top;\n",
       "    }\n",
       "\n",
       "    .dataframe thead th {\n",
       "        text-align: right;\n",
       "    }\n",
       "</style>\n",
       "<table border=\"1\" class=\"dataframe\">\n",
       "  <thead>\n",
       "    <tr style=\"text-align: right;\">\n",
       "      <th></th>\n",
       "      <th>Site</th>\n",
       "      <th>Species</th>\n",
       "      <th>ReadingDateTime</th>\n",
       "      <th>Value</th>\n",
       "      <th>z_score</th>\n",
       "      <th>Units</th>\n",
       "      <th>Provisional or Ratified</th>\n",
       "    </tr>\n",
       "  </thead>\n",
       "  <tbody>\n",
       "    <tr>\n",
       "      <th>0</th>\n",
       "      <td>BL0</td>\n",
       "      <td>NO</td>\n",
       "      <td>01/01/2018 00:00</td>\n",
       "      <td>2.5</td>\n",
       "      <td>-0.987695</td>\n",
       "      <td>ug m-3</td>\n",
       "      <td>R</td>\n",
       "    </tr>\n",
       "    <tr>\n",
       "      <th>1</th>\n",
       "      <td>BL0</td>\n",
       "      <td>NO</td>\n",
       "      <td>01/01/2018 01:00</td>\n",
       "      <td>1.9</td>\n",
       "      <td>-1.010757</td>\n",
       "      <td>ug m-3</td>\n",
       "      <td>R</td>\n",
       "    </tr>\n",
       "    <tr>\n",
       "      <th>2</th>\n",
       "      <td>BL0</td>\n",
       "      <td>NO</td>\n",
       "      <td>01/01/2018 02:00</td>\n",
       "      <td>1.8</td>\n",
       "      <td>-1.014600</td>\n",
       "      <td>ug m-3</td>\n",
       "      <td>R</td>\n",
       "    </tr>\n",
       "    <tr>\n",
       "      <th>3</th>\n",
       "      <td>BL0</td>\n",
       "      <td>NO</td>\n",
       "      <td>01/01/2018 03:00</td>\n",
       "      <td>0.9</td>\n",
       "      <td>-1.049193</td>\n",
       "      <td>ug m-3</td>\n",
       "      <td>R</td>\n",
       "    </tr>\n",
       "    <tr>\n",
       "      <th>4</th>\n",
       "      <td>BL0</td>\n",
       "      <td>NO</td>\n",
       "      <td>01/01/2018 04:00</td>\n",
       "      <td>0.9</td>\n",
       "      <td>-1.049193</td>\n",
       "      <td>ug m-3</td>\n",
       "      <td>R</td>\n",
       "    </tr>\n",
       "    <tr>\n",
       "      <th>...</th>\n",
       "      <td>...</td>\n",
       "      <td>...</td>\n",
       "      <td>...</td>\n",
       "      <td>...</td>\n",
       "      <td>...</td>\n",
       "      <td>...</td>\n",
       "      <td>...</td>\n",
       "    </tr>\n",
       "    <tr>\n",
       "      <th>43795</th>\n",
       "      <td>BL0</td>\n",
       "      <td>PM10</td>\n",
       "      <td>31/12/2018 19:00</td>\n",
       "      <td>11.2</td>\n",
       "      <td>-0.653301</td>\n",
       "      <td>ug/m3</td>\n",
       "      <td>P</td>\n",
       "    </tr>\n",
       "    <tr>\n",
       "      <th>43796</th>\n",
       "      <td>BL0</td>\n",
       "      <td>PM10</td>\n",
       "      <td>31/12/2018 20:00</td>\n",
       "      <td>11.5</td>\n",
       "      <td>-0.641770</td>\n",
       "      <td>ug/m3</td>\n",
       "      <td>P</td>\n",
       "    </tr>\n",
       "    <tr>\n",
       "      <th>43797</th>\n",
       "      <td>BL0</td>\n",
       "      <td>PM10</td>\n",
       "      <td>31/12/2018 21:00</td>\n",
       "      <td>11.8</td>\n",
       "      <td>-0.630239</td>\n",
       "      <td>ug/m3</td>\n",
       "      <td>P</td>\n",
       "    </tr>\n",
       "    <tr>\n",
       "      <th>43798</th>\n",
       "      <td>BL0</td>\n",
       "      <td>PM10</td>\n",
       "      <td>31/12/2018 22:00</td>\n",
       "      <td>11.3</td>\n",
       "      <td>-0.649457</td>\n",
       "      <td>ug/m3</td>\n",
       "      <td>P</td>\n",
       "    </tr>\n",
       "    <tr>\n",
       "      <th>43799</th>\n",
       "      <td>BL0</td>\n",
       "      <td>PM10</td>\n",
       "      <td>31/12/2018 23:00</td>\n",
       "      <td>13.8</td>\n",
       "      <td>-0.553367</td>\n",
       "      <td>ug/m3</td>\n",
       "      <td>P</td>\n",
       "    </tr>\n",
       "  </tbody>\n",
       "</table>\n",
       "<p>43800 rows × 7 columns</p>\n",
       "</div>"
      ],
      "text/plain": [
       "      Site Species   ReadingDateTime  Value   z_score   Units  \\\n",
       "0      BL0      NO  01/01/2018 00:00    2.5 -0.987695  ug m-3   \n",
       "1      BL0      NO  01/01/2018 01:00    1.9 -1.010757  ug m-3   \n",
       "2      BL0      NO  01/01/2018 02:00    1.8 -1.014600  ug m-3   \n",
       "3      BL0      NO  01/01/2018 03:00    0.9 -1.049193  ug m-3   \n",
       "4      BL0      NO  01/01/2018 04:00    0.9 -1.049193  ug m-3   \n",
       "...    ...     ...               ...    ...       ...     ...   \n",
       "43795  BL0    PM10  31/12/2018 19:00   11.2 -0.653301   ug/m3   \n",
       "43796  BL0    PM10  31/12/2018 20:00   11.5 -0.641770   ug/m3   \n",
       "43797  BL0    PM10  31/12/2018 21:00   11.8 -0.630239   ug/m3   \n",
       "43798  BL0    PM10  31/12/2018 22:00   11.3 -0.649457   ug/m3   \n",
       "43799  BL0    PM10  31/12/2018 23:00   13.8 -0.553367   ug/m3   \n",
       "\n",
       "      Provisional or Ratified  \n",
       "0                           R  \n",
       "1                           R  \n",
       "2                           R  \n",
       "3                           R  \n",
       "4                           R  \n",
       "...                       ...  \n",
       "43795                       P  \n",
       "43796                       P  \n",
       "43797                       P  \n",
       "43798                       P  \n",
       "43799                       P  \n",
       "\n",
       "[43800 rows x 7 columns]"
      ]
     },
     "execution_count": 15,
     "metadata": {},
     "output_type": "execute_result"
    }
   ],
   "source": [
    "#df.insert(1,'weight_kg',(df['weight']*0.45359237).astype(int))\n",
    "data = pd.read_csv('LaqnData.csv')\n",
    "data = data.dropna()\n",
    "data['Value'] = zscore(data['Value'])\n",
    "dataZ = data['Value']\n",
    "data = pd.read_csv('LaqnData.csv')\n",
    "data.insert(4, 'z_score',dataZ)\n",
    "data"
   ]
  },
  {
   "cell_type": "markdown",
   "id": "a015fb08",
   "metadata": {
    "pycharm": {
     "name": "#%% md\n"
    }
   },
   "source": [
    "# Importing Dataset\n",
    "\n",
    "Example of data shown\n",
    "\n",
    "Dataset is daily min temps throughout the months\n",
    "\n",
    "As shown below we are using pandas library to convert the date to datetime format"
   ]
  },
  {
   "cell_type": "code",
   "execution_count": 53,
   "id": "e27bf40f",
   "metadata": {
    "scrolled": true,
    "pycharm": {
     "name": "#%%\n"
    }
   },
   "outputs": [
    {
     "name": "stdout",
     "output_type": "stream",
     "text": [
      "            Temp\n",
      "Date            \n",
      "1990-05-22   4.5\n",
      "1990-05-23   7.2\n",
      "1990-05-24  10.0\n",
      "1990-05-25  10.5\n",
      "1990-05-26  10.7\n",
      "...          ...\n",
      "1990-12-27  14.0\n",
      "1990-12-28  13.6\n",
      "1990-12-29  13.5\n",
      "1990-12-30  15.7\n",
      "1990-12-31  13.0\n",
      "\n",
      "[224 rows x 1 columns]\n"
     ]
    }
   ],
   "source": [
    "import pandas as pd\n",
    "import numpy as np\n",
    "import os\n",
    "\n",
    "data=pd.read_csv(\"Daily_Min_Temp.csv\")\n",
    "data.index = pd.to_datetime(data['Date'])\n",
    "data = data.drop(['Date'], axis=1)\n",
    "print(data)"
   ]
  },
  {
   "cell_type": "code",
   "execution_count": 70,
   "id": "b68eebe5",
   "metadata": {
    "pycharm": {
     "name": "#%%\n"
    }
   },
   "outputs": [
    {
     "data": {
      "text/plain": [
       "Text(0, 0.5, 'Temperature (F)')"
      ]
     },
     "execution_count": 70,
     "metadata": {},
     "output_type": "execute_result"
    },
    {
     "data": {
      "image/png": "[encoded data removed]",
      "text/plain": [
       "<Figure size 1500x300 with 1 Axes>"
      ]
     },
     "metadata": {},
     "output_type": "display_data"
    }
   ],
   "source": [
    "ax = data.plot(kind='line', figsize=(15, 3))\n",
    "ax.set_title(\"Min Temp Daily\")\n",
    "ax.set_ylabel(\"Temperature (F)\")"
   ]
  },
  {
   "cell_type": "markdown",
   "id": "be54c1da",
   "metadata": {
    "pycharm": {
     "name": "#%% md\n"
    }
   },
   "source": [
    "As shown above in the graph there is a lot of information shown and it is not clear on what the temp is on each day, this is where aggregation will come into play"
   ]
  },
  {
   "cell_type": "markdown",
   "id": "06aa53a4",
   "metadata": {
    "pycharm": {
     "name": "#%% md\n"
    }
   },
   "source": [
    "# Aggregation\n",
    "\n",
    "Using aggregation to combine all of the days and calculating the mean of each month there is less data but the quality of the data is higher. The min temps are grouped and aggregated by month."
   ]
  },
  {
   "cell_type": "code",
   "execution_count": 66,
   "id": "0f3721fa",
   "metadata": {
    "pycharm": {
     "name": "#%%\n"
    }
   },
   "outputs": [
    {
     "data": {
      "text/plain": [
       "Text(0, 0.5, 'Temperature (F)')"
      ]
     },
     "execution_count": 66,
     "metadata": {},
     "output_type": "execute_result"
    },
    {
     "data": {
      "image/png": "[encoded data removed]",
      "text/plain": [
       "<Figure size 1500x300 with 1 Axes>"
      ]
     },
     "metadata": {},
     "output_type": "display_data"
    }
   ],
   "source": [
    "monthly = data.groupby(pd.Grouper(freq='M')).mean()\n",
    "ax = monthly.plot(kind='line', figsize=(15, 3))\n",
    "ax.set_title(\"Min Temp Daily\")\n",
    "ax.set_ylabel(\"Temperature (F)\")\n"
   ]
  },
  {
   "cell_type": "markdown",
   "id": "5b149d05",
   "metadata": {
    "pycharm": {
     "name": "#%% md\n"
    }
   },
   "source": [
    "As shown above the graph is much smoother than the previous graph where none of the data was aggregated."
   ]
  },
  {
   "cell_type": "markdown",
   "id": "c54f6b70",
   "metadata": {
    "pycharm": {
     "name": "#%% md\n"
    }
   },
   "source": [
    "# Sampling\n",
    "\n",
    "Using another dataset, this dataset has many entries as shown below which is too expensive or time consuming for data miners."
   ]
  },
  {
   "cell_type": "code",
   "execution_count": 71,
   "id": "36e140c0",
   "metadata": {
    "pycharm": {
     "name": "#%%\n"
    }
   },
   "outputs": [
    {
     "name": "stdout",
     "output_type": "stream",
     "text": [
      "       Site Species   ReadingDateTime  Value   Units Provisional or Ratified\n",
      "0       HI0      CO  01/01/2018 00:00    NaN  mg m-3                       P\n",
      "1       HI0      CO  01/01/2018 00:15    NaN  mg m-3                       P\n",
      "2       HI0      CO  01/01/2018 00:30    NaN  mg m-3                       P\n",
      "3       HI0      CO  01/01/2018 00:45    NaN  mg m-3                       P\n",
      "4       HI0      CO  01/01/2018 01:00    NaN  mg m-3                       P\n",
      "...     ...     ...               ...    ...     ...                     ...\n",
      "175195  HI0      O3  31/12/2018 22:45   57.0  ug m-3                       R\n",
      "175196  HI0      O3  31/12/2018 23:00   61.1  ug m-3                       R\n",
      "175197  HI0      O3  31/12/2018 23:15   61.1  ug m-3                       R\n",
      "175198  HI0      O3  31/12/2018 23:30   61.1  ug m-3                       R\n",
      "175199  HI0      O3  31/12/2018 23:45   61.1  ug m-3                       R\n",
      "\n",
      "[175200 rows x 6 columns]\n"
     ]
    }
   ],
   "source": [
    "data2 = pd.read_csv(\"LaqnData.csv\")\n",
    "print(data2)"
   ]
  },
  {
   "cell_type": "code",
   "execution_count": 75,
   "id": "884ae260",
   "metadata": {
    "pycharm": {
     "name": "#%%\n"
    }
   },
   "outputs": [
    {
     "data": {
      "text/html": [
       "<div>\n",
       "<style scoped>\n",
       "    .dataframe tbody tr th:only-of-type {\n",
       "        vertical-align: middle;\n",
       "    }\n",
       "\n",
       "    .dataframe tbody tr th {\n",
       "        vertical-align: top;\n",
       "    }\n",
       "\n",
       "    .dataframe thead th {\n",
       "        text-align: right;\n",
       "    }\n",
       "</style>\n",
       "<table border=\"1\" class=\"dataframe\">\n",
       "  <thead>\n",
       "    <tr style=\"text-align: right;\">\n",
       "      <th></th>\n",
       "      <th>Site</th>\n",
       "      <th>Species</th>\n",
       "      <th>ReadingDateTime</th>\n",
       "      <th>Value</th>\n",
       "      <th>Units</th>\n",
       "      <th>Provisional or Ratified</th>\n",
       "    </tr>\n",
       "  </thead>\n",
       "  <tbody>\n",
       "    <tr>\n",
       "      <th>47480</th>\n",
       "      <td>HI0</td>\n",
       "      <td>NO</td>\n",
       "      <td>10/05/2018 14:00</td>\n",
       "      <td>4.6</td>\n",
       "      <td>ug m-3</td>\n",
       "      <td>R</td>\n",
       "    </tr>\n",
       "    <tr>\n",
       "      <th>91163</th>\n",
       "      <td>HI0</td>\n",
       "      <td>NO2</td>\n",
       "      <td>08/08/2018 14:45</td>\n",
       "      <td>63.2</td>\n",
       "      <td>ug m-3</td>\n",
       "      <td>R</td>\n",
       "    </tr>\n",
       "    <tr>\n",
       "      <th>154619</th>\n",
       "      <td>HI0</td>\n",
       "      <td>O3</td>\n",
       "      <td>31/05/2018 14:45</td>\n",
       "      <td>58.3</td>\n",
       "      <td>ug m-3</td>\n",
       "      <td>R</td>\n",
       "    </tr>\n",
       "    <tr>\n",
       "      <th>20077</th>\n",
       "      <td>HI0</td>\n",
       "      <td>CO</td>\n",
       "      <td>29/07/2018 03:15</td>\n",
       "      <td>NaN</td>\n",
       "      <td>mg m-3</td>\n",
       "      <td>P</td>\n",
       "    </tr>\n",
       "    <tr>\n",
       "      <th>131697</th>\n",
       "      <td>HI0</td>\n",
       "      <td>NOX</td>\n",
       "      <td>04/10/2018 20:15</td>\n",
       "      <td>94.9</td>\n",
       "      <td>ug m-3 as NO2</td>\n",
       "      <td>R</td>\n",
       "    </tr>\n",
       "    <tr>\n",
       "      <th>139606</th>\n",
       "      <td>HI0</td>\n",
       "      <td>NOX</td>\n",
       "      <td>26/12/2018 05:30</td>\n",
       "      <td>NaN</td>\n",
       "      <td>ug m-3 as NO2</td>\n",
       "      <td>R</td>\n",
       "    </tr>\n",
       "    <tr>\n",
       "      <th>165423</th>\n",
       "      <td>HI0</td>\n",
       "      <td>O3</td>\n",
       "      <td>21/09/2018 03:45</td>\n",
       "      <td>34.4</td>\n",
       "      <td>ug m-3</td>\n",
       "      <td>R</td>\n",
       "    </tr>\n",
       "    <tr>\n",
       "      <th>118717</th>\n",
       "      <td>HI0</td>\n",
       "      <td>NOX</td>\n",
       "      <td>22/05/2018 15:15</td>\n",
       "      <td>11.4</td>\n",
       "      <td>ug m-3 as NO2</td>\n",
       "      <td>R</td>\n",
       "    </tr>\n",
       "    <tr>\n",
       "      <th>115392</th>\n",
       "      <td>HI0</td>\n",
       "      <td>NOX</td>\n",
       "      <td>18/04/2018 00:00</td>\n",
       "      <td>88.4</td>\n",
       "      <td>ug m-3 as NO2</td>\n",
       "      <td>R</td>\n",
       "    </tr>\n",
       "    <tr>\n",
       "      <th>50245</th>\n",
       "      <td>HI0</td>\n",
       "      <td>NO</td>\n",
       "      <td>08/06/2018 09:15</td>\n",
       "      <td>4.0</td>\n",
       "      <td>ug m-3</td>\n",
       "      <td>R</td>\n",
       "    </tr>\n",
       "  </tbody>\n",
       "</table>\n",
       "</div>"
      ],
      "text/plain": [
       "       Site Species   ReadingDateTime  Value          Units  \\\n",
       "47480   HI0      NO  10/05/2018 14:00    4.6         ug m-3   \n",
       "91163   HI0     NO2  08/08/2018 14:45   63.2         ug m-3   \n",
       "154619  HI0      O3  31/05/2018 14:45   58.3         ug m-3   \n",
       "20077   HI0      CO  29/07/2018 03:15    NaN         mg m-3   \n",
       "131697  HI0     NOX  04/10/2018 20:15   94.9  ug m-3 as NO2   \n",
       "139606  HI0     NOX  26/12/2018 05:30    NaN  ug m-3 as NO2   \n",
       "165423  HI0      O3  21/09/2018 03:45   34.4         ug m-3   \n",
       "118717  HI0     NOX  22/05/2018 15:15   11.4  ug m-3 as NO2   \n",
       "115392  HI0     NOX  18/04/2018 00:00   88.4  ug m-3 as NO2   \n",
       "50245   HI0      NO  08/06/2018 09:15    4.0         ug m-3   \n",
       "\n",
       "       Provisional or Ratified  \n",
       "47480                        R  \n",
       "91163                        R  \n",
       "154619                       R  \n",
       "20077                        P  \n",
       "131697                       R  \n",
       "139606                       R  \n",
       "165423                       R  \n",
       "118717                       R  \n",
       "115392                       R  \n",
       "50245                        R  "
      ]
     },
     "execution_count": 75,
     "metadata": {},
     "output_type": "execute_result"
    }
   ],
   "source": [
    "sample = data2.sample(n=10)\n",
    "sample"
   ]
  },
  {
   "cell_type": "markdown",
   "id": "83e17136",
   "metadata": {
    "pycharm": {
     "name": "#%% md\n"
    }
   },
   "source": [
    "Using sampling we can randomly select as many data as we want too analyze it rather than going through everything."
   ]
  },
  {
   "cell_type": "markdown",
   "id": "e22fbb93",
   "metadata": {
    "pycharm": {
     "name": "#%% md\n"
    }
   },
   "source": [
    " # Concatenating Rows and Columns"
   ]
  },
  {
   "cell_type": "code",
   "execution_count": 29,
   "id": "8eb724dd",
   "metadata": {
    "pycharm": {
     "name": "#%%\n"
    }
   },
   "outputs": [
    {
     "data": {
      "text/html": [
       "<div>\n",
       "<style scoped>\n",
       "    .dataframe tbody tr th:only-of-type {\n",
       "        vertical-align: middle;\n",
       "    }\n",
       "\n",
       "    .dataframe tbody tr th {\n",
       "        vertical-align: top;\n",
       "    }\n",
       "\n",
       "    .dataframe thead th {\n",
       "        text-align: right;\n",
       "    }\n",
       "</style>\n",
       "<table border=\"1\" class=\"dataframe\">\n",
       "  <thead>\n",
       "    <tr style=\"text-align: right;\">\n",
       "      <th></th>\n",
       "      <th>Site</th>\n",
       "      <th>Species</th>\n",
       "      <th>ReadingDateTime</th>\n",
       "      <th>Value</th>\n",
       "      <th>Units</th>\n",
       "      <th>Provisional or Ratified</th>\n",
       "    </tr>\n",
       "  </thead>\n",
       "  <tbody>\n",
       "    <tr>\n",
       "      <th>0</th>\n",
       "      <td>HI0</td>\n",
       "      <td>CO</td>\n",
       "      <td>01/01/2018 00:00</td>\n",
       "      <td>NaN</td>\n",
       "      <td>mg m-3</td>\n",
       "      <td>P</td>\n",
       "    </tr>\n",
       "    <tr>\n",
       "      <th>1</th>\n",
       "      <td>HI0</td>\n",
       "      <td>CO</td>\n",
       "      <td>01/01/2018 00:15</td>\n",
       "      <td>NaN</td>\n",
       "      <td>mg m-3</td>\n",
       "      <td>P</td>\n",
       "    </tr>\n",
       "    <tr>\n",
       "      <th>2</th>\n",
       "      <td>HI0</td>\n",
       "      <td>CO</td>\n",
       "      <td>01/01/2018 00:30</td>\n",
       "      <td>NaN</td>\n",
       "      <td>mg m-3</td>\n",
       "      <td>P</td>\n",
       "    </tr>\n",
       "    <tr>\n",
       "      <th>3</th>\n",
       "      <td>HI0</td>\n",
       "      <td>CO</td>\n",
       "      <td>01/01/2018 00:45</td>\n",
       "      <td>NaN</td>\n",
       "      <td>mg m-3</td>\n",
       "      <td>P</td>\n",
       "    </tr>\n",
       "    <tr>\n",
       "      <th>4</th>\n",
       "      <td>HI0</td>\n",
       "      <td>CO</td>\n",
       "      <td>01/01/2018 01:00</td>\n",
       "      <td>NaN</td>\n",
       "      <td>mg m-3</td>\n",
       "      <td>P</td>\n",
       "    </tr>\n",
       "    <tr>\n",
       "      <th>...</th>\n",
       "      <td>...</td>\n",
       "      <td>...</td>\n",
       "      <td>...</td>\n",
       "      <td>...</td>\n",
       "      <td>...</td>\n",
       "      <td>...</td>\n",
       "    </tr>\n",
       "    <tr>\n",
       "      <th>175195</th>\n",
       "      <td>HI0</td>\n",
       "      <td>O3</td>\n",
       "      <td>31/12/2018 22:45</td>\n",
       "      <td>57.0</td>\n",
       "      <td>ug m-3</td>\n",
       "      <td>R</td>\n",
       "    </tr>\n",
       "    <tr>\n",
       "      <th>175196</th>\n",
       "      <td>HI0</td>\n",
       "      <td>O3</td>\n",
       "      <td>31/12/2018 23:00</td>\n",
       "      <td>61.1</td>\n",
       "      <td>ug m-3</td>\n",
       "      <td>R</td>\n",
       "    </tr>\n",
       "    <tr>\n",
       "      <th>175197</th>\n",
       "      <td>HI0</td>\n",
       "      <td>O3</td>\n",
       "      <td>31/12/2018 23:15</td>\n",
       "      <td>61.1</td>\n",
       "      <td>ug m-3</td>\n",
       "      <td>R</td>\n",
       "    </tr>\n",
       "    <tr>\n",
       "      <th>175198</th>\n",
       "      <td>HI0</td>\n",
       "      <td>O3</td>\n",
       "      <td>31/12/2018 23:30</td>\n",
       "      <td>61.1</td>\n",
       "      <td>ug m-3</td>\n",
       "      <td>R</td>\n",
       "    </tr>\n",
       "    <tr>\n",
       "      <th>175199</th>\n",
       "      <td>HI0</td>\n",
       "      <td>O3</td>\n",
       "      <td>31/12/2018 23:45</td>\n",
       "      <td>61.1</td>\n",
       "      <td>ug m-3</td>\n",
       "      <td>R</td>\n",
       "    </tr>\n",
       "  </tbody>\n",
       "</table>\n",
       "<p>175200 rows × 6 columns</p>\n",
       "</div>"
      ],
      "text/plain": [
       "       Site Species   ReadingDateTime  Value   Units Provisional or Ratified\n",
       "0       HI0      CO  01/01/2018 00:00    NaN  mg m-3                       P\n",
       "1       HI0      CO  01/01/2018 00:15    NaN  mg m-3                       P\n",
       "2       HI0      CO  01/01/2018 00:30    NaN  mg m-3                       P\n",
       "3       HI0      CO  01/01/2018 00:45    NaN  mg m-3                       P\n",
       "4       HI0      CO  01/01/2018 01:00    NaN  mg m-3                       P\n",
       "...     ...     ...               ...    ...     ...                     ...\n",
       "175195  HI0      O3  31/12/2018 22:45   57.0  ug m-3                       R\n",
       "175196  HI0      O3  31/12/2018 23:00   61.1  ug m-3                       R\n",
       "175197  HI0      O3  31/12/2018 23:15   61.1  ug m-3                       R\n",
       "175198  HI0      O3  31/12/2018 23:30   61.1  ug m-3                       R\n",
       "175199  HI0      O3  31/12/2018 23:45   61.1  ug m-3                       R\n",
       "\n",
       "[175200 rows x 6 columns]"
      ]
     },
     "execution_count": 29,
     "metadata": {},
     "output_type": "execute_result"
    }
   ],
   "source": [
    "import pandas as pd\n",
    "import os\n",
    "import numpy as np\n",
    "from scipy.stats import zscore\n",
    "data = pd.read_csv('C:\\\\Users\\\\SJ\\\\Downloads\\\\LaqnData.csv')\n",
    "\n",
    "path = \"\"\n",
    "filename_read = os.path.join(path,\"LaqnData.csv\")\n",
    "df = pd.read_csv(filename_read,na_values=['NA','?'])\n",
    "col_Site = df['Site']\n",
    "col_Species = df['Species']\n",
    "col_ReadingDateTime = df['ReadingDateTime']\n",
    "col_Value = df['Value']\n",
    "col_Units = df['Units']\n",
    "col_Provisional_or_Ratified = df['Provisional or Ratified']\n",
    "\n",
    "\n",
    "df\n"
   ]
  },
  {
   "cell_type": "code",
   "execution_count": 28,
   "id": "1a8cb6c5",
   "metadata": {
    "pycharm": {
     "name": "#%%\n"
    }
   },
   "outputs": [
    {
     "data": {
      "text/plain": [
       "0         HI0\n",
       "1         HI0\n",
       "2         HI0\n",
       "3         HI0\n",
       "4         HI0\n",
       "         ... \n",
       "175195      R\n",
       "175196      R\n",
       "175197      R\n",
       "175198      R\n",
       "175199      R\n",
       "Length: 1051200, dtype: object"
      ]
     },
     "execution_count": 28,
     "metadata": {},
     "output_type": "execute_result"
    }
   ],
   "source": [
    "# Create a new dataframe from name and horsepower, but this time by row\n",
    "\n",
    "import os\n",
    "import pandas as pd\n",
    "import numpy as np\n",
    "from scipy.stats import zscore\n",
    "data = pd.read_csv('C:\\\\Users\\\\SJ\\\\Downloads\\\\LaqnData.csv')\n",
    "\n",
    "path = \"\"\n",
    "\n",
    "filename_read = os.path.join(path,\"LaqnData.csv\") \n",
    "df = pd.read_csv(filename_read,na_values=['NA','?'])\n",
    "col_Site = df['Site']\n",
    "col_Species = df['Species']\n",
    "col_ReadingDateTime = df['ReadingDateTime']\n",
    "col_Value = df['Value']\n",
    "col_Units = df['Units']\n",
    "col_Provisional_or_Ratified = df['Provisional or Ratified']\n",
    "result = pd.concat([col_Site,col_Species,col_ReadingDateTime,col_Value,col_Units,col_Provisional_or_Ratified])\n",
    "result"
   ]
  },
  {
   "cell_type": "markdown",
   "id": "2ab93b80-665b-4faf-8a9d-490d5b1e8471",
   "metadata": {
    "pycharm": {
     "name": "#%% md\n"
    }
   },
   "source": [
    "# Discretization"
   ]
  },
  {
   "cell_type": "code",
   "execution_count": 15,
   "id": "448ded68-8af4-4c66-a3e2-880debd61687",
   "metadata": {
    "pycharm": {
     "name": "#%%\n"
    }
   },
   "outputs": [
    {
     "name": "stdout",
     "output_type": "stream",
     "text": [
      "Value\n",
      "7.1      136\n",
      "5.1      224\n",
      "3.6      272\n",
      "2.9      304\n",
      "2.7      352\n",
      "        ... \n",
      "222.0      4\n",
      "201.5      4\n",
      "160.8      4\n",
      "122.2      4\n",
      "110.8      4\n",
      "Name: count, Length: 2526, dtype: int64\n"
     ]
    },
    {
     "data": {
      "image/png": "[encoded data removed]",
      "text/plain": [
       "<Figure size 640x480 with 1 Axes>"
      ]
     },
     "metadata": {},
     "output_type": "display_data"
    }
   ],
   "source": [
    "import pandas as pd\n",
    "\n",
    "# Load the dataset\n",
    "data = pd.read_csv('C:\\\\Users\\\\chueu\\\\Downloads\\\\LaqnData.csv')\n",
    "\n",
    "# Plot a histogram for the 'Value' column\n",
    "data['Value'].hist(bins=10)\n",
    "\n",
    "# Print value counts for the 'Value' column, without sorting\n",
    "print(data['Value'].value_counts(sort=False))\n"
   ]
  },
  {
   "cell_type": "markdown",
   "id": "17e76d08-316e-43d5-ae0b-1d3c983a5695",
   "metadata": {
    "pycharm": {
     "name": "#%% md\n"
    }
   },
   "source": [
    "For the equal width method, we can apply the cut() function to discretize the attribute into 4 bins of similar interval widths. The value_counts() function can be used to determine the number of instances in each bin.\n",
    "\n",
    "**<font color=\"red\">Code:</font>**"
   ]
  },
  {
   "cell_type": "code",
   "execution_count": 13,
   "id": "4e253e71-f887-4054-b480-85fb91ab7b52",
   "metadata": {
    "pycharm": {
     "name": "#%%\n"
    }
   },
   "outputs": [
    {
     "data": {
      "text/plain": [
       "Value\n",
       "(-0.644, 160.975]    126196\n",
       "(160.975, 321.95]      4884\n",
       "(321.95, 482.925]       548\n",
       "(482.925, 643.9]         96\n",
       "Name: count, dtype: int64"
      ]
     },
     "execution_count": 13,
     "metadata": {},
     "output_type": "execute_result"
    }
   ],
   "source": [
    "bins = pd.cut(data['Value'], 4)\n",
    "bins.value_counts(sort=False)"
   ]
  },
  {
   "cell_type": "markdown",
   "id": "065c2754-4f4e-43ca-96a7-cb88c4896d0b",
   "metadata": {
    "pycharm": {
     "name": "#%% md\n"
    }
   },
   "source": [
    "For the equal frequency method, the qcut() function can be used to partition the values into 4 bins such that each bin has nearly the same number of instances.\n",
    "\n",
    "**<font color=\"red\">Code:</font>**"
   ]
  },
  {
   "cell_type": "code",
   "execution_count": 14,
   "id": "1e8123b8-6445-4367-b699-c114267c77c1",
   "metadata": {
    "pycharm": {
     "name": "#%%\n"
    }
   },
   "outputs": [
    {
     "data": {
      "text/plain": [
       "Value\n",
       "(-0.001, 12.5]    33048\n",
       "(12.5, 33.2]      32916\n",
       "(33.2, 64.2]      32868\n",
       "(64.2, 643.9]     32892\n",
       "Name: count, dtype: int64"
      ]
     },
     "execution_count": 14,
     "metadata": {},
     "output_type": "execute_result"
    }
   ],
   "source": [
    "bins = pd.qcut(data['Value'],4)\n",
    "bins.value_counts(sort=False)"
   ]
  },
  {
   "cell_type": "markdown",
   "id": "cd980339-a6ef-4455-bd1e-98e1f406b7fc",
   "metadata": {
    "pycharm": {
     "name": "#%% md\n"
    }
   },
   "source": [
    "## Training and Test Split"
   ]
  },
  {
   "cell_type": "code",
   "execution_count": 3,
   "id": "d56a8e04-a561-4f54-bf4c-ac612169a23a",
   "metadata": {
    "pycharm": {
     "name": "#%%\n"
    }
   },
   "outputs": [
    {
     "data": {
      "text/html": [
       "<div>\n",
       "<style scoped>\n",
       "    .dataframe tbody tr th:only-of-type {\n",
       "        vertical-align: middle;\n",
       "    }\n",
       "\n",
       "    .dataframe tbody tr th {\n",
       "        vertical-align: top;\n",
       "    }\n",
       "\n",
       "    .dataframe thead th {\n",
       "        text-align: right;\n",
       "    }\n",
       "</style>\n",
       "<table border=\"1\" class=\"dataframe\">\n",
       "  <thead>\n",
       "    <tr style=\"text-align: right;\">\n",
       "      <th></th>\n",
       "      <th>Site</th>\n",
       "      <th>Species</th>\n",
       "      <th>ReadingDateTime</th>\n",
       "      <th>Value</th>\n",
       "      <th>Units</th>\n",
       "      <th>Provisional or Ratified</th>\n",
       "    </tr>\n",
       "  </thead>\n",
       "  <tbody>\n",
       "    <tr>\n",
       "      <th>0</th>\n",
       "      <td>BL0</td>\n",
       "      <td>NO</td>\n",
       "      <td>01/01/2018 00:00</td>\n",
       "      <td>2.5</td>\n",
       "      <td>ug m-3</td>\n",
       "      <td>R</td>\n",
       "    </tr>\n",
       "    <tr>\n",
       "      <th>1</th>\n",
       "      <td>BL0</td>\n",
       "      <td>NO</td>\n",
       "      <td>01/01/2018 01:00</td>\n",
       "      <td>1.9</td>\n",
       "      <td>ug m-3</td>\n",
       "      <td>R</td>\n",
       "    </tr>\n",
       "    <tr>\n",
       "      <th>2</th>\n",
       "      <td>BL0</td>\n",
       "      <td>NO</td>\n",
       "      <td>01/01/2018 02:00</td>\n",
       "      <td>1.8</td>\n",
       "      <td>ug m-3</td>\n",
       "      <td>R</td>\n",
       "    </tr>\n",
       "    <tr>\n",
       "      <th>3</th>\n",
       "      <td>BL0</td>\n",
       "      <td>NO</td>\n",
       "      <td>01/01/2018 03:00</td>\n",
       "      <td>0.9</td>\n",
       "      <td>ug m-3</td>\n",
       "      <td>R</td>\n",
       "    </tr>\n",
       "    <tr>\n",
       "      <th>4</th>\n",
       "      <td>BL0</td>\n",
       "      <td>NO</td>\n",
       "      <td>01/01/2018 04:00</td>\n",
       "      <td>0.9</td>\n",
       "      <td>ug m-3</td>\n",
       "      <td>R</td>\n",
       "    </tr>\n",
       "  </tbody>\n",
       "</table>\n",
       "</div>"
      ],
      "text/plain": [
       "  Site Species   ReadingDateTime  Value   Units Provisional or Ratified\n",
       "0  BL0      NO  01/01/2018 00:00    2.5  ug m-3                       R\n",
       "1  BL0      NO  01/01/2018 01:00    1.9  ug m-3                       R\n",
       "2  BL0      NO  01/01/2018 02:00    1.8  ug m-3                       R\n",
       "3  BL0      NO  01/01/2018 03:00    0.9  ug m-3                       R\n",
       "4  BL0      NO  01/01/2018 04:00    0.9  ug m-3                       R"
      ]
     },
     "execution_count": 3,
     "metadata": {},
     "output_type": "execute_result"
    }
   ],
   "source": [
    "import pandas as pd\n",
    "import io\n",
    "import numpy as np\n",
    "import os\n",
    "from sklearn.model_selection import train_test_split\n",
    "\n",
    "df = pd.read_csv('LaqnData.csv')\n",
    "df[0:5]\n"
   ]
  },
  {
   "cell_type": "code",
   "execution_count": 5,
   "id": "803999ae-3923-44cc-b4a4-3a07e2017053",
   "metadata": {
    "pycharm": {
     "name": "#%%\n"
    }
   },
   "outputs": [
    {
     "data": {
      "text/html": [
       "<div>\n",
       "<style scoped>\n",
       "    .dataframe tbody tr th:only-of-type {\n",
       "        vertical-align: middle;\n",
       "    }\n",
       "\n",
       "    .dataframe tbody tr th {\n",
       "        vertical-align: top;\n",
       "    }\n",
       "\n",
       "    .dataframe thead th {\n",
       "        text-align: right;\n",
       "    }\n",
       "</style>\n",
       "<table border=\"1\" class=\"dataframe\">\n",
       "  <thead>\n",
       "    <tr style=\"text-align: right;\">\n",
       "      <th></th>\n",
       "      <th>Site</th>\n",
       "      <th>Species</th>\n",
       "      <th>ReadingDateTime</th>\n",
       "      <th>Value</th>\n",
       "      <th>Units</th>\n",
       "      <th>Provisional or Ratified</th>\n",
       "      <th>encoded_species</th>\n",
       "    </tr>\n",
       "  </thead>\n",
       "  <tbody>\n",
       "    <tr>\n",
       "      <th>0</th>\n",
       "      <td>BL0</td>\n",
       "      <td>NO</td>\n",
       "      <td>01/01/2018 00:00</td>\n",
       "      <td>2.5</td>\n",
       "      <td>ug m-3</td>\n",
       "      <td>R</td>\n",
       "      <td>0</td>\n",
       "    </tr>\n",
       "    <tr>\n",
       "      <th>1</th>\n",
       "      <td>BL0</td>\n",
       "      <td>NO</td>\n",
       "      <td>01/01/2018 01:00</td>\n",
       "      <td>1.9</td>\n",
       "      <td>ug m-3</td>\n",
       "      <td>R</td>\n",
       "      <td>0</td>\n",
       "    </tr>\n",
       "    <tr>\n",
       "      <th>2</th>\n",
       "      <td>BL0</td>\n",
       "      <td>NO</td>\n",
       "      <td>01/01/2018 02:00</td>\n",
       "      <td>1.8</td>\n",
       "      <td>ug m-3</td>\n",
       "      <td>R</td>\n",
       "      <td>0</td>\n",
       "    </tr>\n",
       "    <tr>\n",
       "      <th>3</th>\n",
       "      <td>BL0</td>\n",
       "      <td>NO</td>\n",
       "      <td>01/01/2018 03:00</td>\n",
       "      <td>0.9</td>\n",
       "      <td>ug m-3</td>\n",
       "      <td>R</td>\n",
       "      <td>0</td>\n",
       "    </tr>\n",
       "    <tr>\n",
       "      <th>4</th>\n",
       "      <td>BL0</td>\n",
       "      <td>NO</td>\n",
       "      <td>01/01/2018 04:00</td>\n",
       "      <td>0.9</td>\n",
       "      <td>ug m-3</td>\n",
       "      <td>R</td>\n",
       "      <td>0</td>\n",
       "    </tr>\n",
       "  </tbody>\n",
       "</table>\n",
       "</div>"
      ],
      "text/plain": [
       "  Site Species   ReadingDateTime  Value   Units Provisional or Ratified  \\\n",
       "0  BL0      NO  01/01/2018 00:00    2.5  ug m-3                       R   \n",
       "1  BL0      NO  01/01/2018 01:00    1.9  ug m-3                       R   \n",
       "2  BL0      NO  01/01/2018 02:00    1.8  ug m-3                       R   \n",
       "3  BL0      NO  01/01/2018 03:00    0.9  ug m-3                       R   \n",
       "4  BL0      NO  01/01/2018 04:00    0.9  ug m-3                       R   \n",
       "\n",
       "   encoded_species  \n",
       "0                0  \n",
       "1                0  \n",
       "2                0  \n",
       "3                0  \n",
       "4                0  "
      ]
     },
     "execution_count": 5,
     "metadata": {},
     "output_type": "execute_result"
    }
   ],
   "source": [
    "from sklearn import preprocessing\n",
    "le = preprocessing.LabelEncoder()\n",
    "le = preprocessing.LabelEncoder()\n",
    "df['encoded_species'] = le.fit_transform(df['Species'])\n",
    "df[0:5]"
   ]
  },
  {
   "cell_type": "code",
   "execution_count": 8,
   "id": "6a245e79-945a-4ad8-a56a-c8bd6a68a6e5",
   "metadata": {
    "pycharm": {
     "name": "#%%\n"
    }
   },
   "outputs": [
    {
     "data": {
      "text/html": [
       "<div>\n",
       "<style scoped>\n",
       "    .dataframe tbody tr th:only-of-type {\n",
       "        vertical-align: middle;\n",
       "    }\n",
       "\n",
       "    .dataframe tbody tr th {\n",
       "        vertical-align: top;\n",
       "    }\n",
       "\n",
       "    .dataframe thead th {\n",
       "        text-align: right;\n",
       "    }\n",
       "</style>\n",
       "<table border=\"1\" class=\"dataframe\">\n",
       "  <thead>\n",
       "    <tr style=\"text-align: right;\">\n",
       "      <th></th>\n",
       "      <th>Site</th>\n",
       "      <th>Species</th>\n",
       "      <th>ReadingDateTime</th>\n",
       "      <th>Value</th>\n",
       "      <th>Units</th>\n",
       "      <th>Provisional or Ratified</th>\n",
       "      <th>encoded_species</th>\n",
       "    </tr>\n",
       "  </thead>\n",
       "  <tbody>\n",
       "    <tr>\n",
       "      <th>0</th>\n",
       "      <td>BL0</td>\n",
       "      <td>NO</td>\n",
       "      <td>01/01/2018 00:00</td>\n",
       "      <td>2.5</td>\n",
       "      <td>ug m-3</td>\n",
       "      <td>R</td>\n",
       "      <td>0</td>\n",
       "    </tr>\n",
       "    <tr>\n",
       "      <th>1</th>\n",
       "      <td>BL0</td>\n",
       "      <td>NO</td>\n",
       "      <td>01/01/2018 01:00</td>\n",
       "      <td>1.9</td>\n",
       "      <td>ug m-3</td>\n",
       "      <td>R</td>\n",
       "      <td>0</td>\n",
       "    </tr>\n",
       "    <tr>\n",
       "      <th>2</th>\n",
       "      <td>BL0</td>\n",
       "      <td>NO</td>\n",
       "      <td>01/01/2018 02:00</td>\n",
       "      <td>1.8</td>\n",
       "      <td>ug m-3</td>\n",
       "      <td>R</td>\n",
       "      <td>0</td>\n",
       "    </tr>\n",
       "    <tr>\n",
       "      <th>3</th>\n",
       "      <td>BL0</td>\n",
       "      <td>NO</td>\n",
       "      <td>01/01/2018 03:00</td>\n",
       "      <td>0.9</td>\n",
       "      <td>ug m-3</td>\n",
       "      <td>R</td>\n",
       "      <td>0</td>\n",
       "    </tr>\n",
       "    <tr>\n",
       "      <th>4</th>\n",
       "      <td>BL0</td>\n",
       "      <td>NO</td>\n",
       "      <td>01/01/2018 04:00</td>\n",
       "      <td>0.9</td>\n",
       "      <td>ug m-3</td>\n",
       "      <td>R</td>\n",
       "      <td>0</td>\n",
       "    </tr>\n",
       "  </tbody>\n",
       "</table>\n",
       "</div>"
      ],
      "text/plain": [
       "  Site Species   ReadingDateTime  Value   Units Provisional or Ratified  \\\n",
       "0  BL0      NO  01/01/2018 00:00    2.5  ug m-3                       R   \n",
       "1  BL0      NO  01/01/2018 01:00    1.9  ug m-3                       R   \n",
       "2  BL0      NO  01/01/2018 02:00    1.8  ug m-3                       R   \n",
       "3  BL0      NO  01/01/2018 03:00    0.9  ug m-3                       R   \n",
       "4  BL0      NO  01/01/2018 04:00    0.9  ug m-3                       R   \n",
       "\n",
       "   encoded_species  \n",
       "0                0  \n",
       "1                0  \n",
       "2                0  \n",
       "3                0  \n",
       "4                0  "
      ]
     },
     "execution_count": 8,
     "metadata": {},
     "output_type": "execute_result"
    }
   ],
   "source": [
    "x_train, x_test, y_train, y_test = train_test_split(df[['Site', 'Species', 'ReadingDateTime', 'Value']], df['encoded_species'], test_size=0.25, random_state=42)\n",
    "df[0:5]"
   ]
  },
  {
   "cell_type": "code",
   "execution_count": 11,
   "id": "cc4426ac-efe9-4c96-ac05-a64ea5f3d921",
   "metadata": {
    "pycharm": {
     "name": "#%%\n"
    }
   },
   "outputs": [
    {
     "data": {
      "text/html": [
       "<div>\n",
       "<style scoped>\n",
       "    .dataframe tbody tr th:only-of-type {\n",
       "        vertical-align: middle;\n",
       "    }\n",
       "\n",
       "    .dataframe tbody tr th {\n",
       "        vertical-align: top;\n",
       "    }\n",
       "\n",
       "    .dataframe thead th {\n",
       "        text-align: right;\n",
       "    }\n",
       "</style>\n",
       "<table border=\"1\" class=\"dataframe\">\n",
       "  <thead>\n",
       "    <tr style=\"text-align: right;\">\n",
       "      <th></th>\n",
       "      <th>Site</th>\n",
       "      <th>Species</th>\n",
       "      <th>ReadingDateTime</th>\n",
       "      <th>Value</th>\n",
       "      <th>Units</th>\n",
       "      <th>Provisional or Ratified</th>\n",
       "      <th>encoded_species</th>\n",
       "    </tr>\n",
       "  </thead>\n",
       "  <tbody>\n",
       "    <tr>\n",
       "      <th>0</th>\n",
       "      <td>BL0</td>\n",
       "      <td>NO</td>\n",
       "      <td>01/01/2018 00:00</td>\n",
       "      <td>2.5</td>\n",
       "      <td>ug m-3</td>\n",
       "      <td>R</td>\n",
       "      <td>0</td>\n",
       "    </tr>\n",
       "    <tr>\n",
       "      <th>1</th>\n",
       "      <td>BL0</td>\n",
       "      <td>NO</td>\n",
       "      <td>01/01/2018 01:00</td>\n",
       "      <td>1.9</td>\n",
       "      <td>ug m-3</td>\n",
       "      <td>R</td>\n",
       "      <td>0</td>\n",
       "    </tr>\n",
       "    <tr>\n",
       "      <th>2</th>\n",
       "      <td>BL0</td>\n",
       "      <td>NO</td>\n",
       "      <td>01/01/2018 02:00</td>\n",
       "      <td>1.8</td>\n",
       "      <td>ug m-3</td>\n",
       "      <td>R</td>\n",
       "      <td>0</td>\n",
       "    </tr>\n",
       "    <tr>\n",
       "      <th>3</th>\n",
       "      <td>BL0</td>\n",
       "      <td>NO</td>\n",
       "      <td>01/01/2018 03:00</td>\n",
       "      <td>0.9</td>\n",
       "      <td>ug m-3</td>\n",
       "      <td>R</td>\n",
       "      <td>0</td>\n",
       "    </tr>\n",
       "    <tr>\n",
       "      <th>4</th>\n",
       "      <td>BL0</td>\n",
       "      <td>NO</td>\n",
       "      <td>01/01/2018 04:00</td>\n",
       "      <td>0.9</td>\n",
       "      <td>ug m-3</td>\n",
       "      <td>R</td>\n",
       "      <td>0</td>\n",
       "    </tr>\n",
       "    <tr>\n",
       "      <th>...</th>\n",
       "      <td>...</td>\n",
       "      <td>...</td>\n",
       "      <td>...</td>\n",
       "      <td>...</td>\n",
       "      <td>...</td>\n",
       "      <td>...</td>\n",
       "      <td>...</td>\n",
       "    </tr>\n",
       "    <tr>\n",
       "      <th>43795</th>\n",
       "      <td>BL0</td>\n",
       "      <td>PM10</td>\n",
       "      <td>31/12/2018 19:00</td>\n",
       "      <td>11.2</td>\n",
       "      <td>ug/m3</td>\n",
       "      <td>P</td>\n",
       "      <td>4</td>\n",
       "    </tr>\n",
       "    <tr>\n",
       "      <th>43796</th>\n",
       "      <td>BL0</td>\n",
       "      <td>PM10</td>\n",
       "      <td>31/12/2018 20:00</td>\n",
       "      <td>11.5</td>\n",
       "      <td>ug/m3</td>\n",
       "      <td>P</td>\n",
       "      <td>4</td>\n",
       "    </tr>\n",
       "    <tr>\n",
       "      <th>43797</th>\n",
       "      <td>BL0</td>\n",
       "      <td>PM10</td>\n",
       "      <td>31/12/2018 21:00</td>\n",
       "      <td>11.8</td>\n",
       "      <td>ug/m3</td>\n",
       "      <td>P</td>\n",
       "      <td>4</td>\n",
       "    </tr>\n",
       "    <tr>\n",
       "      <th>43798</th>\n",
       "      <td>BL0</td>\n",
       "      <td>PM10</td>\n",
       "      <td>31/12/2018 22:00</td>\n",
       "      <td>11.3</td>\n",
       "      <td>ug/m3</td>\n",
       "      <td>P</td>\n",
       "      <td>4</td>\n",
       "    </tr>\n",
       "    <tr>\n",
       "      <th>43799</th>\n",
       "      <td>BL0</td>\n",
       "      <td>PM10</td>\n",
       "      <td>31/12/2018 23:00</td>\n",
       "      <td>13.8</td>\n",
       "      <td>ug/m3</td>\n",
       "      <td>P</td>\n",
       "      <td>4</td>\n",
       "    </tr>\n",
       "  </tbody>\n",
       "</table>\n",
       "<p>43800 rows × 7 columns</p>\n",
       "</div>"
      ],
      "text/plain": [
       "      Site Species   ReadingDateTime  Value   Units Provisional or Ratified  \\\n",
       "0      BL0      NO  01/01/2018 00:00    2.5  ug m-3                       R   \n",
       "1      BL0      NO  01/01/2018 01:00    1.9  ug m-3                       R   \n",
       "2      BL0      NO  01/01/2018 02:00    1.8  ug m-3                       R   \n",
       "3      BL0      NO  01/01/2018 03:00    0.9  ug m-3                       R   \n",
       "4      BL0      NO  01/01/2018 04:00    0.9  ug m-3                       R   \n",
       "...    ...     ...               ...    ...     ...                     ...   \n",
       "43795  BL0    PM10  31/12/2018 19:00   11.2   ug/m3                       P   \n",
       "43796  BL0    PM10  31/12/2018 20:00   11.5   ug/m3                       P   \n",
       "43797  BL0    PM10  31/12/2018 21:00   11.8   ug/m3                       P   \n",
       "43798  BL0    PM10  31/12/2018 22:00   11.3   ug/m3                       P   \n",
       "43799  BL0    PM10  31/12/2018 23:00   13.8   ug/m3                       P   \n",
       "\n",
       "       encoded_species  \n",
       "0                    0  \n",
       "1                    0  \n",
       "2                    0  \n",
       "3                    0  \n",
       "4                    0  \n",
       "...                ...  \n",
       "43795                4  \n",
       "43796                4  \n",
       "43797                4  \n",
       "43798                4  \n",
       "43799                4  \n",
       "\n",
       "[43800 rows x 7 columns]"
      ]
     },
     "execution_count": 11,
     "metadata": {},
     "output_type": "execute_result"
    }
   ],
   "source": [
    "x_train.shape\n",
    "y_train.shape\n",
    "x_test.shape\n",
    "y_test.shape\n",
    "df"
   ]
  }
 ],
 "metadata": {
  "kernelspec": {
   "display_name": "Python 3 (ipykernel)",
   "language": "python",
   "name": "python3"
  },
  "language_info": {
   "codemirror_mode": {
    "name": "ipython",
    "version": 3
   },
   "file_extension": ".py",
   "mimetype": "text/x-python",
   "name": "python",
   "nbconvert_exporter": "python",
   "pygments_lexer": "ipython3",
   "version": "3.9.10"
  }
 },
 "nbformat": 4,
 "nbformat_minor": 4
}